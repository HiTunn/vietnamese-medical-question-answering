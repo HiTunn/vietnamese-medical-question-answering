{
 "cells": [
  {
   "cell_type": "code",
   "execution_count": 6,
   "metadata": {},
   "outputs": [],
   "source": [
    "from sklearn.metrics.pairwise import linear_kernel\n",
    "import re"
   ]
  },
  {
   "cell_type": "code",
   "execution_count": 32,
   "metadata": {},
   "outputs": [],
   "source": [
    "import os\n",
    "files = os.listdir(\"../corpus\")\n",
    "corpus = []\n",
    "\n",
    "for file in files:\n",
    "    dat = \"\"\n",
    "    with open(\"../corpus/\" + file, \"r\") as f:\n",
    "        data = f.read()\n",
    "        dat = re.sub(\"(<\\S+>)\", \"\" ,data)\n",
    "        dat = re.sub(\"(^https?:\\/\\/\\S+)\", \"\", dat)\n",
    "        dat = dat.replace(\">\", \"\")\n",
    "        corpus.append(dat)\n",
    "    with open(\"../preprocessed_corpus/\" + file, \"w\") as f:\n",
    "        f.write(dat)\n",
    "    "
   ]
  },
  {
   "cell_type": "code",
   "execution_count": 38,
   "metadata": {},
   "outputs": [
    {
     "data": {
      "text/plain": [
       "603"
      ]
     },
     "execution_count": 38,
     "metadata": {},
     "output_type": "execute_result"
    }
   ],
   "source": [
    "len(corpus)"
   ]
  },
  {
   "cell_type": "code",
   "execution_count": 60,
   "metadata": {},
   "outputs": [
    {
     "data": {
      "text/plain": [
       "'\\n\\n                    Trang chủ  \\nCHUYÊN MỤC BỆNH HỌC  \\nTiêu hóa - Gan mật  \\nViêm trực tràng: Nguyên nhân, triệu chứng và cách phòng ngừa\\nViêm trực tràng: Nguyên nhân, triệu chứng và cách phòng ngừa\\nViêm trực tràng là bệnh lý có thể gặp phải ở nhiều lứa tuổi, kể cả ở trẻ em. Trong trường hợp cấp tính, người bệnh có thể hồi phục trong vòng vài tuần. Các vấn đề mạn tính có thể cần thời gian lâu hơn, bao gồm cả đều trị y tế và thay đổi lối sống. \\nMục lục\\nViêm trực tràng là gì?\\nGiai đoạn viêm trực tràng\\n1. Viêm trực tràng cấp tính\\n2. Viêm trực tràng mạn tính\\n Các triệu chứng viêm trực tràng là gì?\\nNguyên nhân nào gây ra viêm trực tràng\\nChẩn đoán viêm trực tràng\\nBiến chứng thường gặp của bệnh viêm trực tràng\\nĐiều trị bệnh viêm trực tràng\\n1. Điều trị viêm trực tràng do nhiễm trùng\\n2. Điều trị viêm trực tràng do xạ trị\\n3. Điều trị viêm trực tràng do bệnh viêm ruột\\n4. Phẫu thuật điều trị\\n Phương pháp phòng ngừa viêm trực tràng như thế nào?\\nViêm trực tràng là gì? Trực tràng là một phần quan trọng của hệ thống tiêu hóa. Trực tràng là phần ống cơ kết nối ruột già dẫn tới hậu môn; chất thải cơ thể sẽ đi qua trực tràng để ra ngoài. Viêm trực tràng là tình trạng viêm ở lớp niêm mạc trực tràng. Bệnh có thể xảy ra trong thời gian ngắn hoặc trở thành mạn tính. Bệnh có thể khiến người bệnh khó chịu hoặc đau đớn. Trong một số trường hợp còn gây chảy máu hoặc tiết dịch nhầy ở trực tràng. \\nViêm trực tràng có thể diễn ra cấp tính hoặc mạn tính \\nGiai đoạn viêm trực tràng \\n1. Viêm trực tràng cấp tính Viêm trực tràng cấp tính có nghĩa là người bệnh xuất hiện các triệu chứng bệnh trong thời gian ngắn; thường là do một nguyên nhân. Tổn thương ở cấp độ viêm trực tràng cấp tính thường không xâm nhập sâu vào thành cơ ruột mà chỉ ở lớp niêm mạc trên cùng. \\n2. Viêm trực tràng mạn tính Trường hợp mạn tính là người bệnh sẽ có các dấu hiệu bệnh viêm trực tràng trong thời gian dài (kéo dài hàng tuần, hàng tháng hoặc lâu hơn). Với cấp độ mạn tính, tình trạng viêm tác động sâu vào lớp biểu mô. Ngoài ra cũng có trường hợp tổn thương hình thành phía trên niêm mạc đại tràng. \\nCác triệu chứng viêm trực tràng là gì? Triệu chứng viêm trực tràng phổ biến nhất có tên gọi là mót rặn (Tenesmus) . Đây là tình trạng bụng khó chịu và thường xuyên muốn đi tiêu &#8211; kể cả khi vừa đi vệ sinh xong. Viêm và kích ứng niêm mạc trực tràng là nguyên nhân gây ra tình trạng mót rặn như thể này ở người bệnh.(1) Ngoài ra dấu hiệu viêm trực tràng còn có thể là:  Đi cầu ra máu Ngứa hoặc nóng rát hậu môn Chảy máu trực tràng Đau hậu môn hoặc trực tràng Đau quặn bụng từng cơn Trực tràng tiết dịch nhầy hoặc mủ Tiêu chảy hoặc thường xuyên đi ngoài phân lỏng Sưng hạch bạch huyết ở bẹn Viêm trực tràng có thể nằm trong bệnh cảnh viêm toàn bộ đại tràng hay chỉ viêm trực tràng đơn độc.   \\nNgười bị viêm trực tràng thường xuyên có cảm giác muốn đi đại tiện \\nNguyên nhân nào gây ra viêm trực tràng Có nhiều nguyên nhân gây ra viêm nhiễm trực tràng; trong đó phần lớn có liên quan tới các bệnh lý mà người bệnh gặp phải trước đó.(2)    Nhiễm trùng đường ruột do Thói quen ăn uống không lành mạnh: Việc ăn uống không lành mạnh, kém vệ sinh có thể dẫn tới một số bệnh nhiễm trùng lây nhiễm ngoài ý muốn như nhiễm khuẩn đường ruột do các loại vi khuẩn salmonella, shigella hoặc campylobacter gây ra.         Nhiễm trùng qua đường tình dục do giao hợp qua ngả hậu môn : Tình trạng nhiễm trùng từ các bệnh gây lây nhiễm qua đường tình dục như bệnh lậu, giang mai, mụn rộp, mụn cóc ở hậu môn,&#8230; là nguyên nhân phổ biến nhất của bệnh viêm trực tràng. Nguyên nhân này có tỷ lệ cao hơn ở giới đồng tính nam hoặc người có nhiều bạn tình.         Bệnh viêm loét đại tràng (ulcerative colitis) hay Crohn đường tiêu hóa: Không phải ai cũng biết có tới 30% người mắc các bệnh tiêu hóa như bệnh Crohn và viêm loét đại tràng đồng thời sau đó cũng gặp phải viêm trực tràng.         Sử dụng thuốc kháng sinh: Uống thuốc kháng sinh có thể liên quan tới tình trạng viêm trực tràng ở một số người. Ngoài việc tiêu diệt vi khuẩn gây nhiễm trùng thì thuốc kháng sinh cũng có nguy cơ loại bỏ cả những lợi khuẩn trong đường tiêu hóa. Việc này lại tạo điều kiện cho Clostridium difficile &#8211; một hại khuẩn gây viêm trực tràng và viêm đại tràng.         Tình dục không an toàn: Quan hệ tình dục không có các biện pháp an toàn, quan hệ qua đường hậu môn hoặc đưa các vật chất/ hóa chất qua vào trực tràng gây nguy cơ chấn thương hậu môn trực tràng và dẫn tới viêm trực tràng.         Xạ trị ung thư: Người từng xạ trị khu vực xương chậu như người bị ung thư trực tràng, ung thư buồng trứng hoặc ung thư tuyến tiền liệt cũng có nguy cơ bị bệnh viêm trực tràng. Thông thường các triệu chứng của tình trạng viêm tuyến phóng xạ như thế này sẽ là chảy máu trực tràng; diễn ra trong vòng 6 tuần sau khi bắt đầu xạ trị hoặc hơn 9 tháng sau khi hoàn tất xạ trị.         Tăng bạch cầu ái toan: Xảy ra khi lượng bạch cầu ái toan tích tụ trong niêm mạc trực tràng. Tình trạng này chỉ ảnh hưởng tới trẻ em dưới 2 tuổi.      \\nChẩn đoán viêm trực tràng Bất kỳ ai nghi ngờ mình bị viêm trực tràng hoặc nhận thấy các triệu chứng bất thường nên đến gặp bác sĩ để được chẩn đoán. Dựa trên các thông tin về triệu chứng, tinh trạng sức khỏe hiện tại, tiền sử gia đình và hành vi tình dục, bác sĩ sẽ quyết định những xét nghiệm nào là cần thiết.\\n    Xét nghiệm máu: Nhằm phát hiện nguy cơ chảy máu hoặc nhiễm trùng.         Xét nghiệm phân: Xác định tình trạng viêm trực tràng có phải do vi khuẩn gây ra hay không.         Nội soi trực tràng hay nội soi đại tràng : Kiểm tra ống hậu môn và phần dưới trực tràng hay toàn bộ đại tràng bằng ống nội soi mềm. Nếu chỉ nội soi trực tràng không cần nhịn ăn hoặc xổ làm sạch ruột trước đó.         Xét nghiệm các bệnh lây nhiễm qua đường tình dục: Bác sĩ sẽ tiến hành lấy mẫu dịch tiết từ trực tràng hoặc từ ống dẫn nước tiểu để kiểm tra liệu người bệnh có đang mắc phải các bệnh truyền nhiễm qua đường tình dục hay không bởi đây là lý do không nhỏ dẫn tới viêm trực tràng.      \\nBiến chứng thường gặp của bệnh viêm trực tràng Nếu không điều trị kịp thời hoặc bệnh không đáp ứng với điều trị thì viêm trực tràng có thể dẫn tới nhiều biến chứng, bao gồm:    Thiếu máu: Chảy máu trực tràng mạn tính có thể gây ra thiếu máu. Tình trạng này khiến người bệnh bị thiếu hồng cầu để vận chuyển oxy tới các mô. Thiếu máu còn khiến bạn mệt mỏi, chóng mặt, khó thở, da xanh xao và dễ cáu gắt.         Áp xe: Khu vực đau, sưng và chứa nhiều mủ do nhiễm trùng.         Hình thành vết loét rộng và rò rỉ: Bệnh viêm trực tràng mạn tính có nguy cơ cao hình thành các vết loét trên niêm mạc bên trong trực tràng. Khi vết loét mở rộng qua thành ruột tạo thành một &#8220;lỗ rò&#8221; kết nối bất thường giữa ruột và da hoặc giữa ruột với các cơ quan khác (bàng quang, âm đạo…)(3)         Ung thư trực tràng: Đây là một biến chứng nguy hiểm của viêm trực tràng, có thể ảnh hưởng tới tính mạng nếu bệnh nhân không phát hiện và điều trị kịp thời.      \\nNếu không điều trị sớm, viêm trực tràng có thể gây ra các biến chứng nghiêm trọng \\nĐiều trị bệnh viêm trực tràng Mục tiêu chính của việc điều trị viêm trực tràng chính là giảm viêm, kiểm soát cơn đau và loại bỏ nhiễm trùng nếu có. Viêm trực tràng càng được điều trị sớm thì cơ hội khỏi bệnh hoàn toàn càng cao. Phương pháp điều trị cụ thể tùy thuộc vào nguyên nhân gây bệnh. \\n1. Điều trị viêm trực tràng do nhiễm trùng Trong trường hợp này người bệnh có thể cần tới các loại thuốc điều trị nhiễm trùng như thuốc kháng sinh, thuốc kháng vi rút, thuốc kháng nấm,&#8230; \\n2. Điều trị viêm trực tràng do xạ trị Nếu ở mức độ nhẹ, người bệnh có thể không cần phải điều trị. Trong trường hợp viêm trực tràng do xạ trị gây đau và chảy máu nhiều thì các bác sĩ có thể đề nghị các biện pháp như dùng thuốc để kiểm soát tình trạng viêm và chảy máu; sử dụng chất làm mềm phân để người bệnh dễ đại tiện hơn; cuối cùng là điều trị để phá hủy mô bị hư hỏng bằng cách loại bỏ các mô đang bị chảy máu. Nội soi trực tràng và đốt cầm máu bằng Argon là cách điều trị tối ưu \\n3. Điều trị viêm trực tràng do bệnh viêm ruột Nếu tình trạng viêm trực tràng có liên quan tới bệnh Crohn hoặc viêm loét đại tràng thì người bệnh cần tập trung vào việc giảm viêm nhiễm. Việc điều trị có thể cần đến thuốc chống viêm, thuốc ức chế hệ thống miễn dịch, thuốc dùng đường uống, tiêm, đặt hậu môn hay bơm thụt hậu môn. Bơm Probiotic vào trực tràng &#8211; đại tràng là cách điều trị hỗ trợ được nêu lên khá nhiều trong y văn hiện nay. \\n4. Phẫu thuật điều trị Nếu điều trị bằng thuốc không giúp bệnh viêm trực tràng ở bạn thuyên giảm hoặc bệnh thường xuyên tái phát thì có khả năng bạn sẽ cần thêm phẫu thuật để loại bỏ một phần cơ quan đang có vấn đề của đường tiêu hóa để chấm dứt bệnh. Ngoài các phương pháp y tế, người bệnh có thể giảm triệu chứng viêm trực tràng qua việc thay đổi lối sống như:  Thay đổi chế độ ăn uống: ăn nhạt, ăn những thực phẩm dễ tiêu hóa; không ăn thức ăn cay, chua hoặc nhiều dầu mỡ. Cắt giảm các sản phẩm từ sữa hoặc chuyển sang các sản phẩm sữa hạt nếu không dung nạp lactose Uống nhiều nước nhưng tránh uống cà phê, trà hoặc các thức uống có chứa caffeine Không nên uống rượu   Trong thời gian chữa trị viêm trực tràng cần theo dõi bệnh kỹ lưỡng. Người bệnh không chỉ cần uống thuốc đầy đủ theo chỉ định mà còn nên kiêng các hoạt động tình dục để tránh gây kích ứng. Sau 1-2 tuần, người bệnh nên tái khám để kiểm tra tình trạng viêm đã được cải thiện tới đâu. Nếu thấy các triệu chứng bệnh trở nặng, đừng chần chừ mà hãy đi khám bác sĩ càng sớm càng tốt để tránh bệnh nặng hơn có thể gây biến chứng. \\nPhương pháp phòng ngừa viêm trực tràng như thế nào? Để phòng ngừa nguy cơ viêm trực tràng, đầu tiên bạn cần biết cách bảo vệ bản thân trước các bệnh lây nhiễm qua đường tình dục (STIs). Cách tốt nhất để ngăn ngừa STIs là kiêng/hạn chế quan hệ tình dục &#8211; nhất là quan hệ qua đường hậu môn. Nếu có quan hệ, hãy lưu ý những điểm sau để giảm nguy cơ mắc bệnh:  Không nên có nhiều bạn tình Sử dụng bao cao su trong mỗi lần &#8220;yêu&#8221; Không quan hệ tình dục với người có vết loét hoặc chảy dịch bất thường ở vùng sinh dục   Nếu được chẩn đoán bị mắc những bệnh lây truyền qua đường tình dục, cần ngừng quan hệ tình dục cho tới khi bạn đã điều trị hoàn toàn. Trung tâm Nội soi và Phẫu thuật nội soi tiêu hóa, Bệnh viện Đa khoa Tâm Anh là đơn vị y tế uy tín, cung cấp dịch vụ thăm khám và điều trị cao cấp, hiệu quả cho các bệnh nhân mắc các vấn đề về đường tiêu hóa từ nhẹ đến nặng. Trung tâm quy tụ đội ngũ bác sĩ Nội – Ngoại – Nội soi tiêu hóa chuyên môn cao, giàu kinh nghiệm, bên cạnh đó là sự hỗ trợ của hệ thống thiết bị y tế hiện đại, nhập khẩu từ nước ngoài, phục vụ tối đa nhu cầu thăm khám và điều trị của khách hàng. Để đặt lịch thăm khám và điều trị các bệnh về đường tiêu hóa với các chuyên gia tại Trung tâm Nội soi &amp; Phẫu thuật nội soi tiêu hóa của Hệ thống Bệnh viện Đa khoa Tâm Anh, xin Quý khách vui lòng liên hệ: \\n HỆ THỐNG BỆNH VIỆN ĐA KHOA TÂM ANH  Hà Nội:\\n  108 Hoàng Như Tiếp, P.Bồ Đề, Q.Long Biên, TP.Hà Nội\\n Hotline: 024 3872 3872 &#8211; 024 7106 6858\\n    TP.HCM:\\n  2B Phổ Quang, P.2, Q.Tân Bình, TP.Hồ Chí Minh\\n Hotline: 0287 102 6789 &#8211; 093 180 6858\\n    Fanpage: \\n Website: \\n    Do một số biểu hiện của viêm trực tràng khá giống với các bệnh lý tiêu hóa khác nên khiến không ít người dễ bỏ qua bệnh. Để không rơi vào nguy cơ gặp phải các biến chứng viêm trực tràng do điều trị trễ &#8211; nguy hiểm nhất là ung thư trực tràng, chúng ta cần ý thức trong việc bảo vệ sức khỏe tình dục cũng như xây dựng lối sống lành mạnh.                                     \\n'"
      ]
     },
     "execution_count": 60,
     "metadata": {},
     "output_type": "execute_result"
    }
   ],
   "source": [
    "corpus[0]"
   ]
  },
  {
   "cell_type": "markdown",
   "metadata": {},
   "source": [
    "Tạo mô hình TF-IDF "
   ]
  },
  {
   "cell_type": "code",
   "execution_count": 39,
   "metadata": {},
   "outputs": [],
   "source": [
    "from sklearn.feature_extraction.text import TfidfVectorizer\n",
    "tf = TfidfVectorizer(analyzer='word', ngram_range=(1,3), min_df = 0, stop_words = 'english')"
   ]
  },
  {
   "cell_type": "code",
   "execution_count": 40,
   "metadata": {},
   "outputs": [
    {
     "name": "stderr",
     "output_type": "stream",
     "text": [
      "/usr/local/lib/python3.9/dist-packages/sklearn/utils/deprecation.py:87: FutureWarning: Function get_feature_names is deprecated; get_feature_names is deprecated in 1.0 and will be removed in 1.2. Please use get_feature_names_out instead.\n",
      "  warnings.warn(msg, category=FutureWarning)\n"
     ]
    }
   ],
   "source": [
    "tfidf_matrix =  tf.fit_transform(corpus)\n",
    "feature_names = tf.get_feature_names() "
   ]
  },
  {
   "cell_type": "code",
   "execution_count": 44,
   "metadata": {},
   "outputs": [
    {
     "data": {
      "text/plain": [
       "['00 8211', '00 8211 00', '00 diop', '00 diop cận']"
      ]
     },
     "execution_count": 44,
     "metadata": {},
     "output_type": "execute_result"
    }
   ],
   "source": [
    "feature_names[1:5]"
   ]
  },
  {
   "cell_type": "code",
   "execution_count": 41,
   "metadata": {},
   "outputs": [
    {
     "data": {
      "text/plain": [
       "874363"
      ]
     },
     "execution_count": 41,
     "metadata": {},
     "output_type": "execute_result"
    }
   ],
   "source": [
    "len(feature_names)"
   ]
  },
  {
   "cell_type": "markdown",
   "metadata": {},
   "source": [
    "Ma trận tf-idf có kích thước 603 x 874363 - mỗi một hàng biểu diễn một bệnh, mỗi một cột biểu diễn một cụm từ:"
   ]
  },
  {
   "cell_type": "markdown",
   "metadata": {},
   "source": [
    "Lấy ra tập các từ và TF-IDF của nó "
   ]
  },
  {
   "cell_type": "code",
   "execution_count": 42,
   "metadata": {},
   "outputs": [],
   "source": [
    "dense = tfidf_matrix.todense()\n",
    "episode = dense[0].tolist()[0]\n",
    "phrase_scores = [pair for pair in zip(range(0, len(episode)), episode) if pair[1] > 0]"
   ]
  },
  {
   "cell_type": "code",
   "execution_count": 45,
   "metadata": {},
   "outputs": [
    {
     "data": {
      "text/plain": [
       "4082"
      ]
     },
     "execution_count": 45,
     "metadata": {},
     "output_type": "execute_result"
    }
   ],
   "source": [
    "len(phrase_scores)"
   ]
  },
  {
   "cell_type": "code",
   "execution_count": 43,
   "metadata": {},
   "outputs": [
    {
     "data": {
      "text/plain": [
       "[(750296, 0.46654903646831747),\n",
       " (750297, 0.46654903646831747),\n",
       " (702980, 0.338611635324247),\n",
       " (675777, 0.3241058247536746),\n",
       " (702848, 0.18547401659770082)]"
      ]
     },
     "execution_count": 43,
     "metadata": {},
     "output_type": "execute_result"
    }
   ],
   "source": [
    "sorted(phrase_scores, key=lambda t: t[1] * -1)[:5]"
   ]
  },
  {
   "cell_type": "code",
   "execution_count": 66,
   "metadata": {},
   "outputs": [
    {
     "data": {
      "text/plain": [
       "'Hương đang mang thai và lo lắng mình có thể gặp phải rau tiền đạo. Hương có thể kiểm tra phát hiện bệnh này từ tuần thứ mấy của thai kỳ?,A. Tuần 10,B.Tuần 20,C. Tuần 30,D. Tuần 40,,'"
      ]
     },
     "execution_count": 66,
     "metadata": {},
     "output_type": "execute_result"
    }
   ],
   "source": [
    "question = \"Hương đang mang thai và lo lắng mình có thể gặp phải rau tiền đạo. Hương có thể kiểm tra phát hiện bệnh này từ tuần thứ mấy của thai kỳ?,A. Tuần 10,B.Tuần 20,C. Tuần 30,D. Tuần 40,,\"\n",
    "question"
   ]
  },
  {
   "cell_type": "code",
   "execution_count": 52,
   "metadata": {},
   "outputs": [],
   "source": [
    "question_vec = tf.transform([question]).todense()"
   ]
  },
  {
   "cell_type": "code",
   "execution_count": 58,
   "metadata": {},
   "outputs": [
    {
     "name": "stderr",
     "output_type": "stream",
     "text": [
      "/usr/local/lib/python3.9/dist-packages/sklearn/utils/validation.py:593: FutureWarning: np.matrix usage is deprecated in 1.0 and will raise a TypeError in 1.2. Please convert to a numpy array with np.asarray. For more information see: https://numpy.org/doc/stable/reference/generated/numpy.matrix.html\n",
      "  warnings.warn(\n",
      "/usr/local/lib/python3.9/dist-packages/sklearn/utils/validation.py:593: FutureWarning: np.matrix usage is deprecated in 1.0 and will raise a TypeError in 1.2. Please convert to a numpy array with np.asarray. For more information see: https://numpy.org/doc/stable/reference/generated/numpy.matrix.html\n",
      "  warnings.warn(\n"
     ]
    },
    {
     "data": {
      "text/plain": [
       "471"
      ]
     },
     "execution_count": 58,
     "metadata": {},
     "output_type": "execute_result"
    }
   ],
   "source": [
    "linear_kernel(question_vec, dense).argmax()"
   ]
  },
  {
   "cell_type": "code",
   "execution_count": 59,
   "metadata": {},
   "outputs": [
    {
     "data": {
      "text/plain": [
       "'\\n\\n                    Trang chủ  \\nCHUYÊN MỤC BỆNH HỌC  \\nSản - Phụ khoa  \\nRau tiền đạo: Nguyên nhân, dấu hiệu và cách phòng ngừa\\nRau tiền đạo: Nguyên nhân, dấu hiệu và cách phòng ngừa\\nRau tiền đạo là một trong những biến chứng thai kỳ nguy hiểm đe dọa tính mạng mẹ bầu và thai nhi với tỷ lệ mắc phải 1/200 trường hợp phụ nữ mang thai. Vậy dấu hiệu rau tiền đạo là gì để mẹ bầu sớm nhận biết và điều trị hiệu quả?  \\nMục lục\\nRau tiền đạo là gì?\\nCác dạng rau tiền đạo thường gặp\\nNguyên nhân gây ra rau tiền đạo\\nDấu hiệu rau tiền đạo thường gặp\\nRau tiền đạo có nguy hiểm không?\\nĐối với thai phụ\\nĐối với thai nhi\\n Bao nhiêu tuần thì biết được rau tiền đạo?\\nPhương pháp chẩn đoán rau tiền đạo\\nĐiều trị rau tiền đạo như thế nào?\\nĐối với rau tiền đạo khi chưa chuyển dạ\\nĐối với rau tiền đạo khi chuyển dạ\\nĐối với rau tiền đạo biến chứng rau cài răng lược\\n Phòng ngừa rau tiền đạo\\nRau tiền đạo là gì? Rau tiền đạo là hiện tượng rau thai nằm ở vị trí thấp nhất của tử cung, làm che mất một phần hoặc toàn bộ cổ tử cung, làm cản đường ra của thai nhi trong quá trình sinh nở (bệnh còn có tên gọi khác là nhau tiền đạo)\\n Trong suốt thời gian mang thai, rau (còn gọi là nhau thai) là bộ phận trao đổi chất duy nhất giữa thai phụ và thai nhi, cung cấp dưỡng chất nuôi dưỡng thai nhi. Bánh rau được hình thành từ rất sớm, song song cùng sự phát triển của thai nhi.\\n PGS.TS.BS Nguyễn Đức Hinh, Trung tâm Sản Phụ khoa Bệnh viện Đa khoa Tâm Anh Hà Nội cho biết, bình thường rau thai bám vào mặt trước, mặt sau hoặc phía trên thành tử cung, bên trái hoặc bên phải của tử cung. \\nBánh rau có hình dạng tròn, đường kính vào khoảng 15cm, dày khoảng 2,5-3cm, cân nặng khoảng 400-500g (ước tính khoảng ⅙ trọng lượng thai nhi). Mỗi bánh rau gồm 15-20 múi, giữa các múi là các rãnh nhỏ. (\\n1)\\nCác dạng rau tiền đạo thường gặp Dựa vào vị trí bám của bánh rau mà bệnh được chia thành 5 loại, gồm:  Rau bám thấp: Bánh rau bám vào thân của tử cung và một phần nhỏ ở đoạn dưới tử cung, chưa đến lỗ tử cung. Rau bám mép: Bờ bánh rau bám cổ tử cung, chưa che lấp cổ tử cung. Rau bám bên: Phần lớn bánh rau bám vào đoạn dưới nhưng chưa tới cổ tử cung. Rau tiền đạo bán trung tâm: Bánh rau che lấp một phần cổ tử cung. Rau tiền đạo trung tâm: Bánh rau che lấp hoàn toàn cổ tử cung, chiếm tỷ lệ 20-30% các trường hợp. (2)   \\n \\nNguyên nhân gây ra rau tiền đạo Hiện tại, nguyên nhân gây ra rau thai tiền đạo vẫn chưa được xác định rõ ràng. Bác sĩ Nguyễn Đức Hinh cho biết, bánh rau có thể phát triển ở bất cứ vị trí nào mà phôi thai làm tổ trong lòng tử cung. Nghĩa là, nếu phôi thai làm tổ ở phần dưới của tử cung thì bánh rau sẽ phát triển từ vị trí này, không xê dịch lên phía trên trong suốt thai kỳ, kết quả là dẫn đến tình trạng rau tiền đạo.\\n Thêm vào đó, những trường hợp có các yếu tố sau sẽ có nguy cơ cao gặp phải tình trạng này, bao gồm:  Phụ nữ trải qua sinh nở nhiều lần; Phụ nữ mang thai khi đã lớn tuổi (trên 35 tuổi); Tiền sử bị sảy thai hoặc nạo phá thai nhiều lần trước đó; Có tình trạng viêm nhiễm tử cung trước khi mang thai; Tiền sử bị rau tiền đạo ở lần mang thai trước; Tử cung có hình dạng bất thường; Phụ nữ mang song thai, đa thai có bánh rau lớn sẽ tăng nguy cơ mắc bệnh; Lối sống không lành mạnh, thường xuyên sử dụng các chất kích thích như hút thuốc lá.   \\nDấu hiệu rau tiền đạo thường gặp Các triệu chứng của rau tiền đạo khác nhau tùy vào thể lâm sàng và mức độ nặng, nhẹ của bệnh. Nhìn chung, thai phụ có thể sớm nhận biết rau nếu gặp phải các triệu chứng này khi mang thai là: (3)  Bị xuất huyết âm đạo bất thường (máu có màu đỏ tươi, có thể lẫn cục máu) nhưng không hề gây cảm giác đau đớn, thường gặp ở 3 tháng cuối thai kỳ. Tình trạng xuất huyết âm đạo có thể từ mức độ nhẹ đến nặng, chảy máu ít hoặc nhiều, có thể tự hết mà không cần điều trị. Tuy nhiên, triệu chứng có thể tái phát với mức độ xuất huyết tăng dần. Một vài trường hợp thai phụ bị chảy máu đi kèm cơn co thắt.   \\nXuất huyết âm đạo bất thường khi mang thai là một trong những triệu chứng của rau tiền đạo Nếu bị xuất huyết âm đạo bất thường khi mang thai, nhất là trong 3 tháng giữa hoặc 3 tháng cuối thai kỳ, thai phụ cần đến ngay bệnh viện để được can thiệp điều trị đúng cách và hiệu quả, tránh trường hợp mất máu nặng ảnh hưởng đến tính mạng thai phụ và thai nhi. \\nRau tiền đạo có nguy hiểm không? Rau tiền đạo nếu không được phát hiện sớm và can thiệp điều trị hiệu quả có thể gây biến chứng băng huyết sau sinh và trong thai kỳ, đe dọa tính mạng thai phụ lẫn thai nhi. Cụ thể là: \\nĐối với thai phụ Khi bệnh gây xuất huyết âm đạo tái đi tái lại nhiều lần trong thai kỳ có thể khiến thai phụ bị thiếu máu nghiêm trọng, dễ sinh non. Trường hợp thai phụ bị rau bám gần cổ tử cung, sau khi sinh bánh rau bị bóc tách sẽ làm cổ tử cung bị hở, tạo điều kiện thuận lợi cho vi khuẩn, vi trùng có hại xâm nhập gây nhiễm trùng. Nhiều trường hợp phải cắt bỏ tử cung nếu bánh rau bám chặt vào cơ tử cung, không thể tách được khỏi lớp niêm mạc. \\nĐối với thai nhi Thai phụ bị thiếu máu có thể khiến thai nhi bị suy dinh dưỡng, không được nuôi dưỡng gây suy thai. Trong trường hợp thai phụ bị xuất huyết nghiêm trọng phải cấp cứu, bác sĩ sẽ chỉ định mổ lấy thai khẩn cấp để cứu sống cả thai phụ lẫn thai nhi. Nếu thai nhi chưa đủ ngày đủ tháng sẽ bị sinh non, nguy cơ bị suy hô hấp sau sinh nếu không được can thiệp hỗ trợ. Thêm vào đó, bánh rau nằm ở vị trí dưới phần tử cung sẽ khiến thai nhi khó xoay đầu xuống, gây bất lợi cho đường ra của thai nhi lúc sinh nở. Thai phụ có thể phải sinh ngôi thai ngược (ngôi ngang hoặc ngôi mông). \\nBao nhiêu tuần thì biết được rau tiền đạo? Bác sĩ Nguyễn Đức Hinh cho biết, hầu hết các trường hợp rau tiền đạo có thể được phát hiện sớm từ tuần 20 của thai kỳ nhờ vào phương pháp siêu âm thai. Trong quá trình siêu âm, với sự hỗ trợ của nhiều thiết bị hiện đại, bác sĩ có thể quan sát được bánh rau bám vào vị trí nào ở tử cung (thân, đáy, mặt trước, mặt sau, bên trái, bên phải, bám thấp, bán trung tâm hoặc trung tâm).\\nChẩn đoán rau tiền đạo chủ yếu được thực hiện bằng phương pháp siêu âm “Khi mang thai nếu không may thai phụ bị rau quấn tiền đạo sẽ rất nguy hiểm đến sức khỏe của mẹ và bé trong thai kỳ. Chính vì thế, thai phụ cần tuân thủ chặt chẽ lịch khám thai của bác sĩ để phát hiện sớm những bất thường trong thai kỳ, có can thiệp kịp thời và hiệu quả”, bác sĩ Nguyễn Đức Hinh nhấn mạnh.\\nPhương pháp chẩn đoán rau tiền đạo Thông thường, việc chẩn đoán được thực hiện bằng phương pháp siêu âm. Ngoài ra, siêu âm cũng có ý nghĩa quan trọng trong chẩn đoán rau tiền đạo biến chứng rau cài răng lược. (4) Hình ảnh siêu âm sẽ cho thấy khoảng cách giữa bánh rau và thành bàng quang bị thu hẹp lại, mạch máu xuyên qua thành cơ tử cung đến thành bàng quang phổ biến trên siêu âm Doppler. Do đó, siêu âm được khuyến cáo thực hiện từ sau tuần thai thứ 28 để phát hiện sớm biến chứng này. \\nĐiều trị rau tiền đạo như thế nào? Bác sĩ Nguyễn Đức Hinh \\ncho biết, nguyên tắc chung khi điều trị rau tiền đạo là thực hiện cầm máu ngay để cứu sống thai phụ. Tùy vào tuổi thai nhi, mức độ chảy máu, khả năng nuôi dưỡng thai nhi cùng nhiều yếu tố khác mà bác sĩ sẽ có chỉ định tiếp tục thai kỳ hoặc mổ lấy thai phù hợp. \\nTùy vào từng trường hợp cụ thể mà bác sĩ sẽ có tư vấn và chỉ định hướng điều trị phù hợp \\nĐối với rau tiền đạo khi chưa chuyển dạ  Thai phụ cần có chế độ nghỉ ngơi hợp lý, hạn chế di chuyển và vận động nhiều, xây dựng chế độ dinh dưỡng bổ sung đủ chất cần thiết cho cơ thể. Bác sĩ có thể chỉ định thai phụ sử dụng các loại thuốc giảm co như Spasmaverin, Salbutamol, Progesteron. Sử dụng Corticoid giúp trưởng thành phổi thai trong trường hợp có nguy bị sinh non (từ 24 tuần đến 34 tuần 6 ngày). Với thai đủ tháng: Nếu rau tiền đạo trung tâm, bán trung tâm bác sĩ sẽ chỉ định mổ lấy thai chủ động khi được 38 tuần. Các trường hợp còn lại cân nhắc tiếp tục theo dõi đến lúc chuyển dạ nếu không bị chảy máu. Trong trường hợp xuất huyết nhiều, tình trạng thiếu máu đe dọa tính mạng thai phụ: Chỉ định mổ lấy thai ở bất kỳ tuổi thai nào để cầm máu cứu mẹ.   \\nĐối với rau tiền đạo khi chuyển dạ  Trường hợp rau bán trung tâm hoặc trung tâm: Bác sĩ chỉ định mổ lấy thai. Trường hợp rau bám thấp: Nếu xuất huyết nhiều chỉ định mổ lấy thai, nếu xuất huyết ít hoặc không xuất huyết tiếp tục theo dõi chuyển dạ. Trường hợp rau bám mép: Nếu xuất huyết nhiều, chỉ định mổ lấy thai. Nếu xuất huyết ít, ngôi thai và tử cung thuận lợi sẽ bấm ối và xé màng ối về phía không có bánh rau để cầm máu. Nếu sau khi xé màng ối vẫn chảy máu thì mổ lấy thai, ngược lại không còn chảy máu thì theo dõi đường âm đạo.   \\nĐối với rau tiền đạo biến chứng rau cài răng lược Rau cài răng lược được xem là biến chứng nặng nề nhất của rau tiền đạo. Lúc này, mạch máu đã tăng sinh nhiều ở đoạn dưới tử cung và bắt đầu đâm xuyên vào bàng quang, thường gặp ở thai phụ có vết mổ lấy thai cũ. Việc phẫu thuật gặp nhiều khó khăn, mất nhiều máu và có thể gây tổn thương đến bàng quang. Trong trường hợp này bác sĩ sẽ chỉ định mổ lấy thai chủ động khi thai đủ tháng bằng cách mổ dọc thân tử cung từ phía trên bánh rau thai bám hoặc đáy tử cung để lấy thai. Không bóc rau thai và cắt tử cung để hạn chế tối đa sự chảy máu. Đây là những trường hợp vô cùng khó khăn và nguy hiểm. \\nPhòng ngừa rau tiền đạo Rau tiền đạo là một trong những biến chứng thai kỳ nguy hiểm, đe dọa tính mạng thai phụ lẫn thai nhi. Chính vì thế, bác sĩ Nguyễn Đức Hinh\\nkhuyến cáo, thai phụ cần lưu ý những điều sau để tận hưởng một thai kỳ khỏe mạnh và an toàn. (5) Cụ thể là:  Hạn chế việc mang thai khi đã lớn tuổi, nếu mang thai cần tham khảo ý kiến bác sĩ để được tư vấn và hướng dẫn lịch theo dõi thai kỳ sát sao, bảo vệ thai kỳ tốt nhất. Tuân thủ các hướng dẫn của bác sĩ sau mổ lấy thai để không gây biến chứng nguy hiểm ở vết mổ cũ. Thực hiện lối sống lành mạnh, không sử dụng các chất kích thích khi mang thai. Không hút thuốc lá, cũng như tránh hút thuốc lá bị động khi mang thai. Nhập viện theo dõi thai kỳ nếu được chẩn đoán bị rau thai tiền đạo ở những tháng cuối thai kỳ. Đến ngay cơ sở y tế có chuyên khoa Sản khoa nổi tiếng để được can thiệp kịp thời và hiệu quả khi có những dấu hiệu bất thường kể trên.   \\nPhụ nữ mang thai không được sử dụng chất kích thích, nhất là hút thuốc lá Tóm lại, rau tiền đạo là biến chứng thai kỳ nguy hiểm. Việc chẩn đoán và điều trị bệnh cần được thực hiện tại cơ sở y tế có chuyên khoa Sản uy tín, đội ngũ bác sĩ giỏi, chuyên môn cao, đầy đủ máy móc, thiết bị hiện đại để đảm bảo an toàn cho cả thai phụ lẫn thai nhi. Trung tâm Sản Phụ khoa, Hệ thống Bệnh viện Đa khoa Tâm Anh sở hữu hệ thống máy móc, trang thiết bị hiện đại như hệ thống máy siêu âm 2D, 3D, 4D, siêu âm màu Doppler, siêu âm GE E10 tiên tiến… cho hình ảnh siêu âm chân thật, rõ nét; quy tụ đội ngũ chuyên gia đầu ngành trong lĩnh vực Sản khoa tại Việt Nam, từng điều trị thành công nhiều trường hợp tai biến sản khoa nguy hiểm, chăm sóc thai kỳ khỏe mạnh, sinh nở an toàn, mẹ tròn con vuông. Để đặt lịch khám và tư vấn thai kỳ với các chuyên gia Sản khoa giỏi tại Hệ thống Bệnh viện Đa khoa Tâm Anh, thai phụ vui lòng liên hệ đến: \\n HỆ THỐNG BỆNH VIỆN ĐA KHOA TÂM ANH  Hà Nội:\\n  108 Hoàng Như Tiếp, P.Bồ Đề, Q.Long Biên, TP.Hà Nội\\n Hotline: 024 3872 3872 &#8211; 024 7106 6858\\n    TP.HCM:\\n  2B Phổ Quang, P.2, Q.Tân Bình, TP.Hồ Chí Minh\\n Hotline: 0287 102 6789 &#8211; 093 180 6858\\n    Fanpage: \\n Website: \\n    Hy vọng những thông tin bổ ích trên đây giúp thai phụ hiểu rõ hơn về căn bệnh rau tiền đạo. Nếu có bất kỳ thắc mắc nào, thai phụ có thể liên hệ đến hotline Hệ thống Bệnh viện Đa khoa Tâm Anh để được các chuyên gia Sản khoa hỗ trợ!                                     \\n'"
      ]
     },
     "execution_count": 59,
     "metadata": {},
     "output_type": "execute_result"
    }
   ],
   "source": [
    "corpus[471]"
   ]
  },
  {
   "cell_type": "markdown",
   "metadata": {},
   "source": [
    "BM25"
   ]
  },
  {
   "cell_type": "code",
   "execution_count": 61,
   "metadata": {},
   "outputs": [],
   "source": [
    "class BM25:\n",
    "\n",
    "    def __init__(self, k1=1.5, b=0.75):\n",
    "        self.b = b\n",
    "        self.k1 = k1\n",
    "\n",
    "    def fit(self, corpus):\n",
    "        \"\"\"\n",
    "        Fit the various statistics that are required to calculate BM25 ranking\n",
    "        score using the corpus given.\n",
    "\n",
    "        Parameters\n",
    "        ----------\n",
    "        corpus : list[list[str]]\n",
    "            Each element in the list represents a document, and each document\n",
    "            is a list of the terms.\n",
    "\n",
    "        Returns\n",
    "        -------\n",
    "        self\n",
    "        \"\"\"\n",
    "        tf = []\n",
    "        df = {}\n",
    "        idf = {}\n",
    "        doc_len = []\n",
    "        corpus_size = 0\n",
    "        for document in corpus:\n",
    "            corpus_size += 1\n",
    "            doc_len.append(len(document))\n",
    "\n",
    "            # compute tf (term frequency) per document\n",
    "            frequencies = {}\n",
    "            for term in document:\n",
    "                term_count = frequencies.get(term, 0) + 1\n",
    "                frequencies[term] = term_count\n",
    "\n",
    "            tf.append(frequencies)\n",
    "\n",
    "            # compute df (document frequency) per term\n",
    "            for term, _ in frequencies.items():\n",
    "                df_count = df.get(term, 0) + 1\n",
    "                df[term] = df_count\n",
    "\n",
    "        for term, freq in df.items():\n",
    "            idf[term] = math.log(1 + (corpus_size - freq + 0.5) / (freq + 0.5))\n",
    "\n",
    "        self.tf_ = tf\n",
    "        self.df_ = df\n",
    "        self.idf_ = idf\n",
    "        self.doc_len_ = doc_len\n",
    "        self.corpus_ = corpus\n",
    "        self.corpus_size_ = corpus_size\n",
    "        self.avg_doc_len_ = sum(doc_len) / corpus_size\n",
    "        return self\n",
    "\n",
    "    def search(self, query):\n",
    "        scores = [self._score(query, index) for index in range(self.corpus_size_)]\n",
    "        return scores\n",
    "\n",
    "    def _score(self, query, index):\n",
    "        score = 0.0\n",
    "\n",
    "        doc_len = self.doc_len_[index]\n",
    "        frequencies = self.tf_[index]\n",
    "        for term in query:\n",
    "            if term not in frequencies:\n",
    "                continue\n",
    "\n",
    "            freq = frequencies[term]\n",
    "            numerator = self.idf_[term] * freq * (self.k1 + 1)\n",
    "            denominator = freq + self.k1 * (1 - self.b + self.b * doc_len / self.avg_doc_len_)\n",
    "            score += (numerator / denominator)\n",
    "\n",
    "        return score"
   ]
  },
  {
   "cell_type": "code",
   "execution_count": 70,
   "metadata": {},
   "outputs": [],
   "source": [
    "docs = corpus[471].split(\"\\n\")\n",
    "texts = [\n",
    "    [word for word in document.lower().split()]\n",
    "    for document in docs\n",
    "]"
   ]
  },
  {
   "cell_type": "code",
   "execution_count": 71,
   "metadata": {},
   "outputs": [
    {
     "data": {
      "text/plain": [
       "<__main__.BM25 at 0x7fce41b79c70>"
      ]
     },
     "execution_count": 71,
     "metadata": {},
     "output_type": "execute_result"
    }
   ],
   "source": [
    "import math\n",
    "bm25 = BM25()\n",
    "bm25.fit(texts)"
   ]
  },
  {
   "cell_type": "code",
   "execution_count": 76,
   "metadata": {},
   "outputs": [
    {
     "name": "stdout",
     "output_type": "stream",
     "text": [
      "['Dấu hiệu rau tiền đạo thường gặp Các triệu chứng của rau tiền đạo khác nhau tùy vào thể lâm sàng và mức độ nặng, nhẹ của bệnh. Nhìn chung, thai phụ có thể sớm nhận biết rau nếu gặp phải các triệu chứng này khi mang thai là: (3)  Bị xuất huyết âm đạo bất thường (máu có màu đỏ tươi, có thể lẫn cục máu) nhưng không hề gây cảm giác đau đớn, thường gặp ở 3 tháng cuối thai kỳ. Tình trạng xuất huyết âm đạo có thể từ mức độ nhẹ đến nặng, chảy máu ít hoặc nhiều, có thể tự hết mà không cần điều trị. Tuy nhiên, triệu chứng có thể tái phát với mức độ xuất huyết tăng dần. Một vài trường hợp thai phụ bị chảy máu đi kèm cơn co thắt.   '\n",
      " 'Rau tiền đạo có nguy hiểm không? Rau tiền đạo nếu không được phát hiện sớm và can thiệp điều trị hiệu quả có thể gây biến chứng băng huyết sau sinh và trong thai kỳ, đe dọa tính mạng thai phụ lẫn thai nhi. Cụ thể là: '\n",
      " 'Bao nhiêu tuần thì biết được rau tiền đạo? Bác sĩ Nguyễn Đức Hinh cho biết, hầu hết các trường hợp rau tiền đạo có thể được phát hiện sớm từ tuần 20 của thai kỳ nhờ vào phương pháp siêu âm thai. Trong quá trình siêu âm, với sự hỗ trợ của nhiều thiết bị hiện đại, bác sĩ có thể quan sát được bánh rau bám vào vị trí nào ở tử cung (thân, đáy, mặt trước, mặt sau, bên trái, bên phải, bám thấp, bán trung tâm hoặc trung tâm).']\n"
     ]
    }
   ],
   "source": [
    "import numpy as np\n",
    "limit = 3\n",
    "\n",
    "\n",
    "query = question.split()\n",
    "\n",
    "scores = bm25.search(query)\n",
    "scores_index = np.argsort(scores)\n",
    "scores_index = scores_index[::-1]\n",
    "\n",
    "print(np.array([docs[i] for i in scores_index])[:limit])\n"
   ]
  },
  {
   "cell_type": "code",
   "execution_count": 75,
   "metadata": {},
   "outputs": [
    {
     "ename": "ModuleNotFoundError",
     "evalue": "No module named 'sentence_transformers'",
     "output_type": "error",
     "traceback": [
      "\u001b[0;31m---------------------------------------------------------------------------\u001b[0m",
      "\u001b[0;31mModuleNotFoundError\u001b[0m                       Traceback (most recent call last)",
      "\u001b[1;32m/space/hotel/phit/kalapa/source/test.ipynb Cell 24\u001b[0m line \u001b[0;36m<module>\u001b[0;34m\u001b[0m\n\u001b[0;32m----> <a href='vscode-notebook-cell://ssh-remote%2B172.16.87.75/space/hotel/phit/kalapa/source/test.ipynb#X44sdnNjb2RlLXJlbW90ZQ%3D%3D?line=0'>1</a>\u001b[0m \u001b[39mfrom\u001b[39;00m \u001b[39msentence_transformers\u001b[39;00m \u001b[39mimport\u001b[39;00m SentenceTransformer\n",
      "\u001b[0;31mModuleNotFoundError\u001b[0m: No module named 'sentence_transformers'"
     ]
    }
   ],
   "source": [
    "from sentence_transformers import SentenceTransformer"
   ]
  }
 ],
 "metadata": {
  "kernelspec": {
   "display_name": "Python 3",
   "language": "python",
   "name": "python3"
  },
  "language_info": {
   "codemirror_mode": {
    "name": "ipython",
    "version": 3
   },
   "file_extension": ".py",
   "mimetype": "text/x-python",
   "name": "python",
   "nbconvert_exporter": "python",
   "pygments_lexer": "ipython3",
   "version": "3.9.2"
  }
 },
 "nbformat": 4,
 "nbformat_minor": 2
}
