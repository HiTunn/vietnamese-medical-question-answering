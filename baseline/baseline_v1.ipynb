{
 "cells": [
  {
   "cell_type": "code",
   "execution_count": 265,
   "metadata": {},
   "outputs": [],
   "source": [
    "import re\n",
    "import os\n",
    "import math\n",
    "import numpy as np\n",
    "from sklearn.feature_extraction.text import TfidfVectorizer\n",
    "from sklearn.metrics.pairwise import linear_kernel\n",
    "from sentence_transformers import SentenceTransformer\n",
    "from tqdm import tqdm\n",
    "import warnings\n",
    "warnings.filterwarnings(\"ignore\")"
   ]
  },
  {
   "cell_type": "code",
   "execution_count": 266,
   "metadata": {},
   "outputs": [],
   "source": [
    "files = os.listdir(\"../corpus\")\n",
    "corpus = []\n",
    "\n",
    "for file in files:\n",
    "    dat = \"\"\n",
    "    with open(\"../corpus/\" + file, \"r\") as f:\n",
    "        data = f.read()\n",
    "        dat = re.sub(\"(<\\S+>)\", \"\" ,data)\n",
    "        dat = re.sub(\"(^https?:\\/\\/\\S+)\", \"\", dat)\n",
    "        dat = dat.replace(\">\", \"\")\n",
    "        corpus.append(dat)\n",
    "    with open(\"../preprocessed_corpus/\" + file, \"w\") as f:\n",
    "        f.write(dat)\n",
    "    "
   ]
  },
  {
   "cell_type": "code",
   "execution_count": 267,
   "metadata": {},
   "outputs": [
    {
     "data": {
      "text/plain": [
       "603"
      ]
     },
     "execution_count": 267,
     "metadata": {},
     "output_type": "execute_result"
    }
   ],
   "source": [
    "len(corpus)"
   ]
  },
  {
   "cell_type": "markdown",
   "metadata": {},
   "source": [
    "Tạo mô hình TF-IDF "
   ]
  },
  {
   "cell_type": "code",
   "execution_count": 268,
   "metadata": {},
   "outputs": [],
   "source": [
    "tf = TfidfVectorizer(analyzer='word', ngram_range=(1,3), min_df = 0.0, stop_words = 'english')"
   ]
  },
  {
   "cell_type": "code",
   "execution_count": 269,
   "metadata": {},
   "outputs": [],
   "source": [
    "tfidf_matrix =  tf.fit_transform(corpus)\n",
    "feature_names = tf.get_feature_names() "
   ]
  },
  {
   "cell_type": "code",
   "execution_count": 270,
   "metadata": {},
   "outputs": [
    {
     "data": {
      "text/plain": [
       "['00 8211', '00 8211 00', '00 diop', '00 diop cận']"
      ]
     },
     "execution_count": 270,
     "metadata": {},
     "output_type": "execute_result"
    }
   ],
   "source": [
    "feature_names[1:5]"
   ]
  },
  {
   "cell_type": "code",
   "execution_count": 271,
   "metadata": {},
   "outputs": [
    {
     "data": {
      "text/plain": [
       "874363"
      ]
     },
     "execution_count": 271,
     "metadata": {},
     "output_type": "execute_result"
    }
   ],
   "source": [
    "len(feature_names)"
   ]
  },
  {
   "cell_type": "markdown",
   "metadata": {},
   "source": [
    "Ma trận tf-idf có kích thước 603 x 874363 - mỗi một hàng biểu diễn một bệnh, mỗi một cột biểu diễn một cụm từ:"
   ]
  },
  {
   "cell_type": "markdown",
   "metadata": {},
   "source": [
    "Lấy ra tập các từ và TF-IDF của nó "
   ]
  },
  {
   "cell_type": "code",
   "execution_count": 272,
   "metadata": {},
   "outputs": [],
   "source": [
    "dense = tfidf_matrix.todense()\n",
    "episode = dense[0].tolist()[0]\n",
    "phrase_scores = [pair for pair in zip(range(0, len(episode)), episode) if pair[1] > 0]"
   ]
  },
  {
   "cell_type": "code",
   "execution_count": 273,
   "metadata": {},
   "outputs": [
    {
     "data": {
      "text/plain": [
       "4082"
      ]
     },
     "execution_count": 273,
     "metadata": {},
     "output_type": "execute_result"
    }
   ],
   "source": [
    "len(phrase_scores)"
   ]
  },
  {
   "cell_type": "code",
   "execution_count": 274,
   "metadata": {},
   "outputs": [
    {
     "data": {
      "text/plain": [
       "[(750296, 0.46654903646831747),\n",
       " (750297, 0.46654903646831747),\n",
       " (702980, 0.338611635324247),\n",
       " (675777, 0.3241058247536746),\n",
       " (702848, 0.18547401659770082)]"
      ]
     },
     "execution_count": 274,
     "metadata": {},
     "output_type": "execute_result"
    }
   ],
   "source": [
    "sorted(phrase_scores, key=lambda t: t[1] * -1)[:5]"
   ]
  },
  {
   "cell_type": "code",
   "execution_count": 378,
   "metadata": {},
   "outputs": [
    {
     "data": {
      "text/plain": [
       "[array(['A. Tuần 10', 'B.Tuần 20', 'C. Tuần 30', 'D. Tuần 40'],\n",
       "       dtype=object),\n",
       " array(['A. 5 tuần', 'B. 15 tuần', 'C. 25 tuần', 'D. 35 tuần'],\n",
       "       dtype=object),\n",
       " array(['A. 2', 'B.3', 'C. 4', 'D. 5'], dtype=object),\n",
       " array(['Có', 'Không'], dtype=object),\n",
       " array(['A. Nhiễm trùng đường tiết niệu', 'B.Ung thư tinh hoàn',\n",
       "        'C. Chấn thương', 'D. Giãn tĩnh mạch thừng tinh'], dtype=object),\n",
       " array(['A. Bệnh lý tiêu hóa', 'B.Bệnh lý hô hấp', 'C. Bệnh lý tim mạch',\n",
       "        'D. Bệnh lý thần kinh'], dtype=object),\n",
       " array(['A. Tăng cường hấp thu dinh dưỡng',\n",
       "        'B.Mất cân bằng hệ vi sinh đường ruột', 'C. Giảm nhu động ruột',\n",
       "        'D. Không có đáp án nào đúng'], dtype=object),\n",
       " array(['Có', 'Không'], dtype=object),\n",
       " array(['A. Khám lâm sàng', 'B.Siêu âm qua ngả âm đạo và siêu âm ổ bụng',\n",
       "        'C. Chẩn đoán hình ảnh, thăm dò chức năng và y học hạt nhân'],\n",
       "       dtype=object),\n",
       " array(['Có', 'Không'], dtype=object),\n",
       " array(['A. Chụp X-quang ngực', 'B.Chụp CT', 'C. Thông tim',\n",
       "        'D. Chụp mạch vành', 'E. Điện tâm đồ (ECG)'], dtype=object),\n",
       " array(['A. Có', 'B. Không', 'C. Không rõ'], dtype=object),\n",
       " array(['A. Ngủ đủ 4 tiếng/ngày', 'B.Ăn nhiều đồ ngọt',\n",
       "        'C. Uống đủ nước mỗi ngày 1,5 – 2 lít'], dtype=object),\n",
       " array(['A. Tiểu nhiều lần trong ngày',\n",
       "        'B.Nước tiểu có lẫn mủ hoặc máu tươi',\n",
       "        'C. Lỗ tiểu bị sưng đỏ, có cảm giác ngứa'], dtype=object),\n",
       " array(['A. Một dạng bệnh nhiễm vi rút cấp tính',\n",
       "        'B.Một loại bệnh truyền nhiễm qua đường tình dục',\n",
       "        'C. Một bệnh lây truyền qua thực phẩm'], dtype=object),\n",
       " array(['A. Tiểu nhiều lần trong ngày',\n",
       "        'B.Lượng nước tiểu thường không nhiều',\n",
       "        'C. Nước tiểu có lẫn mủ hoặc máu tươi'], dtype=object),\n",
       " array(['A. Khi đã trưởng thành', 'B.Chỉ khi có triệu chứng rõ ràng',\n",
       "        'C. Khi ở tuổi dậy thì và trưởng thành',\n",
       "        'D. Không cần đến bác sĩ'], dtype=object),\n",
       " array(['A. Tình trạng chảy máu từ tử cung bất thường, khác với chu kỳ kinh nguyệt bình thường',\n",
       "        'B.Tình trạng chảy máu từ tử cung đúng chu kỳ kinh nguyệt',\n",
       "        'C. Tình trạng chảy máu từ âm đạo bất thường, không liên quan đến tử cung',\n",
       "        'D. Tình trạng chảy máu từ âm đạo bất thường, đúng chu kỳ kinh nguyệt'],\n",
       "       dtype=object),\n",
       " array(['A. Tình trạng viêm túi chứa dịch lỏng ở khớp gối',\n",
       "        'B.Tình trạng viêm màng phổi',\n",
       "        'C. Tình trạng viêm dây chằng đầu gối'], dtype=object),\n",
       " array(['A. Chóng mặt, hoa mắt', 'B.Đau bụng, tiêu chảy',\n",
       "        'C. Đau đầu, nôn do tăng áp lực nội sọ'], dtype=object),\n",
       " array(['A. Chụp X-quang', 'B.Chụp MRI', 'C. Siêu âm'], dtype=object),\n",
       " array(['A. Tình trạng ngón cái bật nhẹ không đau hay cảm giác khó chịu mỗi khi cử động',\n",
       "        'B. Ngón tay cái thường bị cố định, kẹt hay khóa trong tư thế gập khi người bệnh vận động',\n",
       "        'C. Cảm giác đau trên vùng gân, đau nhiều khi vận động, có thể bị sưng'],\n",
       "       dtype=object),\n",
       " array(['A. Người thường xuyên tiếp xúc với các hóa chất độc hại, chất gây dị ứng',\n",
       "        'B.Người bị trào ngược axit dạ dày',\n",
       "        'C. Người bị viêm mũi xoang nhiều đợt'], dtype=object),\n",
       " array(['A. Thăm khám lâm sàng', 'B.Xét nghiệm chức năng gan',\n",
       "        'C. Sinh thiết gan'], dtype=object),\n",
       " array(['A. Bệnh lây qua đường tình dục', 'B.Bệnh di truyền',\n",
       "        'C. Bệnh do chất độc', 'D. Bệnh do ăn uống không lành mạnh'],\n",
       "       dtype=object),\n",
       " array(['A. Đúng', 'B.Sai'], dtype=object),\n",
       " array(['A. Không có tác dụng gì',\n",
       "        'B.Giảm nhẹ các triệu chứng bệnh, giúp người bệnh thoải mái và dễ chịu hơn',\n",
       "        'C. Làm tăng nguy cơ mắc các bệnh nhiễm trùng khác'], dtype=object),\n",
       " array(['A. Tiểu nhiều lần trong ngày',\n",
       "        'B.Nước tiểu có lẫn mủ hoặc máu tươi',\n",
       "        'C. Lỗ tiểu bị sưng đỏ, có cảm giác ngứa'], dtype=object),\n",
       " array(['A. Ung thư xâm lấn', 'B.Ung thư không xâm lấn',\n",
       "        'C. Ung thư di căn', 'D. Ung thư ác tính'], dtype=object),\n",
       " array(['A. Sử dụng nước đá', 'B.Sử dụng nitơ lỏng', 'C. Sử dụng tia X',\n",
       "        'D. Sử dụng laser'], dtype=object),\n",
       " array(['A. PALM & COEIN', 'B.POLYPE & COEIN', 'C. PALM & COIN',\n",
       "        'D. POLYPE & COIN'], dtype=object),\n",
       " array(['A. Tăng cân nhanh',\n",
       "        'B.Yếu cơ, chậm phát triển về vận động và trí tuệ', 'C. Sốt cao',\n",
       "        'D. Đau bụng'], dtype=object),\n",
       " array(['A. Viêm tuyến tiền liệt', 'B.Viêm tinh hoàn mào tinh',\n",
       "        'C. Vô sinh'], dtype=object),\n",
       " array(['A. Nhiễm virus', 'B.Hút thuốc', 'C. Ăn đồ cay nóng'], dtype=object),\n",
       " array(['A. Sử dụng thuốc kháng sinh', 'B.Sử dụng thuốc giảm đau',\n",
       "        'C. Tăng cường hệ miễn dịch và giảm thiểu tối đa nguy cơ bị các bệnh viêm nhiễm'],\n",
       "       dtype=object),\n",
       " array(['A. Tăng cường vệ sinh cá nhân, môi trường, không gian sống',\n",
       "        'B.Cập nhật kiến thức về sự lây lan của vi khuẩn gây bệnh ỉa chảy',\n",
       "        'C. Thực hiện các biện pháp xử lý đúng cách khi có người bị ỉa chảy cấp'],\n",
       "       dtype=object),\n",
       " array(['A. 1/100 trẻ sơ sinh nam', 'B.1/1000 trẻ sơ sinh nam',\n",
       "        'C. 1/10000 trẻ sơ sinh nam', 'D. 1/100000 trẻ sơ sinh nam'],\n",
       "       dtype=object),\n",
       " array(['A. Tăng cường vệ sinh cá nhân, môi trường, không gian sống',\n",
       "        'B.Bảo đảm an toàn vệ sinh thực phẩm'], dtype=object),\n",
       " array(['A. Chỉ những người già', 'B.Bất cứ ai',\n",
       "        'C. Chỉ những người trẻ tuổi'], dtype=object),\n",
       " array(['A. Laser chữa mụn', 'B.Điện di'], dtype=object),\n",
       " array(['A. Nhiễm trùng', 'B.Di truyền từ gia đình',\n",
       "        'C. Sự thay đổi trong hệ thống miễn dịch do các bệnh liên quan đến viêm'],\n",
       "       dtype=object),\n",
       " array(['A. Thực hiện chế độ ăn uống khoa học',\n",
       "        'B.Hạn chế nói nhiều, nói to, nói liên tục, la hét',\n",
       "        'C. Tránh ở trong môi trường không khí khô, khói hoặc bụi'],\n",
       "       dtype=object),\n",
       " array(['A. Rửa mặt 5 lần/ngày', 'B.Tránh chà xát, nặn mụn',\n",
       "        'C. Đi ra ngoài không đeo khẩu trang'], dtype=object),\n",
       " array(['A. Bệnh do virus', 'B.Bệnh do vi khuẩn', 'C. Bệnh di truyền',\n",
       "        'D. Bệnh do stress'], dtype=object),\n",
       " array(['A. Rung nhĩ', 'B.Suy tim', 'C. Các vấn đề về van tim',\n",
       "        'D. Suy giảm chức năng thận', 'E. Tổn thương gan'], dtype=object),\n",
       " array(['A. Mụn trứng cá chỉ ảnh hưởng đến ngoại hình',\n",
       "        'B.Mụn trứng cá không ảnh hưởng đến tâm lý',\n",
       "        'C. Mụn trứng cá khiến người bệnh mất tự tin'], dtype=object),\n",
       " array(['A. Do sử dụng ngón tay cái nhiều trong nhiều nghề nghiệp',\n",
       "        'B.Do chấn thương trong sinh hoạt hằng ngày hoặc khi chơi thể thao',\n",
       "        'C. Biến chứng từ một số bệnh lý như tiểu đường, viêm khớp dạng thấp, viêm khớp vảy nến, gout'],\n",
       "       dtype=object),\n",
       " array(['A. Đúng', 'B.Sai'], dtype=object),\n",
       " array(['A. 1 loại', 'B.2 loại', 'C. 3 loại'], dtype=object),\n",
       " array(['A.Amoxicillin, Ceftriaxone, Azithromycin',\n",
       "        'B.Oseltamivir, Zanamivir, Peramivir',\n",
       "        'C. Metoprolol, Atenolol, Propranolol'], dtype=object),\n",
       " array(['A. Có', 'B.Không'], dtype=object),\n",
       " array(['A. Sự xuất hiện các tế bào ung thư khu trú giới hạn ở buồng trứng, chưa xâm lấn các cơ quan lân cận và chưa di căn xa.',\n",
       "        'B.Sự xuất hiện các tế bào ung thư đã xâm lấn các cơ quan lân cận và di căn xa khác.',\n",
       "        'C. Sự xuất hiện các tế bào ung thư đã lan rộng sang các cơ quan khác trong cơ thể.'],\n",
       "       dtype=object),\n",
       " array(['A. Vi khuẩn lậu', 'B.Chlamydia',\n",
       "        'C. Không có tác nhân nào gây ra'], dtype=object),\n",
       " array(['A. Tránh quan hệ tình dục với nhiều người',\n",
       "        'B.Thường xuyên sử dụng bao cao su mỗi khi giao hợp',\n",
       "        'C. Ăn uống đủ dưỡng chất để bổ sung năng lượng'], dtype=object),\n",
       " array(['A. Lây qua đường tiêu hoá', 'B.Lây qua đường tình dục',\n",
       "        'C. Lây trực tiếp qua đường hô hấp'], dtype=object),\n",
       " array(['A. Tình trạng tâm thất phải không bơm máu đến phổi hiệu quả',\n",
       "        'B.Tình trạng tâm thất trái không bơm máu đến phổi hiệu quả',\n",
       "        'C. Tình trạng tâm thất phải không bơm máu đến cơ thể hiệu quả',\n",
       "        'D. Tình trạng tâm thất trái không bơm máu đến cơ thể hiệu quả'],\n",
       "       dtype=object),\n",
       " array(['A. Cơ thể tiêu thụ thực phẩm không phù hợp',\n",
       "        'B.Nhiễm khuẩn thực phẩm'], dtype=object),\n",
       " array(['A. Tế bào phát triển chậm và phát triển nhanh',\n",
       "        'B.Tế bào phát triển chậm và tế bào ung thư',\n",
       "        'C. Tế bào ung thư và tế bào khỏe mạnh'], dtype=object),\n",
       " array(['A. Tránh hút thuốc và tránh xa khói thuốc', 'B.Uống nhiều nước',\n",
       "        'C. Tránh ăn khuya'], dtype=object),\n",
       " array(['A. Xuất huyết nghiêm trọng', 'B.Thiếu máu',\n",
       "        'C. Không có biến chứng nào'], dtype=object),\n",
       " array(['A. Chụp nhũ ảnh', 'B.Siêu âm', 'C. Chụp cộng hưởng từ (MRI)'],\n",
       "       dtype=object),\n",
       " array(['A. Ngăn chặn khả năng tạo ra hormone mới của tuyến giáp',\n",
       "        'B.Làm tuyến giáp ngừng sản xuất hormone',\n",
       "        'C. Phá hủy các tế bào tuyến giáp tạo ra hormone',\n",
       "        'D. Không có thông tin'], dtype=object),\n",
       " array(['A. Thực hiện tư thế đúng trong sinh hoạt và lao động',\n",
       "        'B.Tránh vận động quá sức',\n",
       "        'C. Các động tác khụy gối thường xuyên hoặc lặp đi lặp lại có thể tạo áp lực lớn lên khớp gối'],\n",
       "       dtype=object),\n",
       " array(['A. Khi người bệnh gắng sức', 'B.Khi ngủ', 'C. Khi uống rượu',\n",
       "        'D. Khi ăn đồ nặng'], dtype=object),\n",
       " array(['A. Phẫu thuật bảo tồn vú', 'B.Xạ trị', 'C. Hóa trị'], dtype=object),\n",
       " array(['A. Đau đầu, đau cơ, mỏi khớp', 'B.Vàng da, vàng mắt',\n",
       "        'C. Mệt mỏi, chán ăn'], dtype=object),\n",
       " array(['A. Rửa tay thường xuyên', 'B.Uống thuốc kháng vi rút',\n",
       "        'C. Tiêm ngừa cúm hằng năm'], dtype=object),\n",
       " array(['A. Giọng nói khàn khàn', 'B.Cơn ho khó chịu không biến mất',\n",
       "        'C. Khó nuốt'], dtype=object),\n",
       " array(['A. Bệnh về tim mạch', 'B.Bệnh về hô hấp', 'C. Bệnh về tiêu hóa',\n",
       "        'D. Bệnh về thần kinh'], dtype=object),\n",
       " array(['A. Bên trong âm đạo', 'B.Bên trong mũi', 'C. Bên trong tai',\n",
       "        'D. Bên trong mắt'], dtype=object),\n",
       " array(['Thuốc kháng sinh hoặc corticosteroid',\n",
       "        'Thuốc giảm đau và thuốc ngủ',\n",
       "        'Thuốc hạ huyết áp và thuốc kháng histamin'], dtype=object),\n",
       " array(['Cả hai căn bệnh đều cần phải xét nghiệm vi khuẩn để chẩn đoán',\n",
       "        'Cả hai căn bệnh đều có thể được điều trị bằng các phương pháp tự nhiên',\n",
       "        'Cả hai căn bệnh đều có triệu chứng chung như đau họng, khó nuốt, mệt mỏi'],\n",
       "       dtype=object),\n",
       " array(['Phân biệt qua thời gian kéo dài, viêm họng mạn tính kéo dài nhiều tuần hơn',\n",
       "        'Phân biệt qua nguyên nhân gây bệnh, viêm họng cấp tính thường do virus gây ra hơn',\n",
       "        'Phân biệt qua các triệu chứng, viêm họng cấp tính thường có sốt, khàn giọng hơn'],\n",
       "       dtype=object),\n",
       " array(['Có càng nhiều bạn tình càng tốt',\n",
       "        'Sử dụng bao cao su khi quan hệ tình dục',\n",
       "        'Quan hệ tình dục trong thời gian bị bệnh',\n",
       "        'Chung thủy 1 vợ 1 chồng'], dtype=object),\n",
       " array(['Giang mai', 'Chlamydia', 'Lậu'], dtype=object),\n",
       " array(['Xét nghiệm máu', 'Xét nghiệm nước tiểu', 'Xét nghiệm dịch âm đạo'],\n",
       "       dtype=object),\n",
       " array(['Cả hai bệnh đều có thể phát triển từ tình trạng viêm và tổn thương niêm mạc dạ dày và tá tràng',\n",
       "        'Cả hai bệnh đều gây ra đau thượng vị, khó tiêu, buồn nôn và nôn mửa',\n",
       "        'Cả hai bệnh hầu hết gây ra nguy hiểm đến tính mạng',\n",
       "        'Cả hai bệnh đều không có triệu chứng'], dtype=object),\n",
       " array(['Mét', 'Diop', 'Lít', 'Kilôgam'], dtype=object),\n",
       " array(['Sử dụng kính mắt', 'Sử dụng kính áp tròng',\n",
       "        'Sử dụng thuốc kháng sinh', 'Phẫu thuật'], dtype=object),\n",
       " array(['Cả hai đều là các bệnh lý về da',\n",
       "        'Cả hai đều gây ra những biến chứng nghiêm trọng',\n",
       "        'Cả hai đều có nguy cơ lây nhiễm từ người này sang người khác'],\n",
       "       dtype=object),\n",
       " array(['Mụn đầu trắng', 'Mụn đầu đen', 'Mụn mủ', 'U nang', 'Nốt sần'],\n",
       "       dtype=object),\n",
       " array(['Giữ vùng da sạch sẽ, hạn chế tiếp xúc trực tiếp với người bệnh',\n",
       "        'Sử dụng chung vật dụng cá nhân',\n",
       "        'Đến gặp bác sĩ khi có triệu chứng lạ'], dtype=object),\n",
       " array(['Nữ giới có tỉ lệ mắc cao hơn ở cả 2 bệnh',\n",
       "        'Nam giới có tỉ lệ mắc cao hơn ở cả 2 bệnh',\n",
       "        'Nữ giới có tỉ lệ mắc ung thư tuyến giáp cao hơn',\n",
       "        'Nam giới có tỉ lệ mắc ung thư thận cao hơn'], dtype=object),\n",
       " array(['Giữ vệ sinh tai sạch sẽ',\n",
       "        'Không hút thuốc và tránh tiếp xúc với khói thuốc',\n",
       "        'Tránh tiếp xúc với nước', 'Hạn chế nằm nhiều'], dtype=object),\n",
       " array(['Viêm gan A', 'Viêm gan B', 'Viêm gan C'], dtype=object),\n",
       " array(['Sốt', 'Nôn hoặc buồn nôn', 'Vàng da', 'Đỏ mắt',\n",
       "        'Nước tiểu nhạt màu'], dtype=object),\n",
       " array(['Viêm gan A', 'Viêm gan B', 'Viêm gan C'], dtype=object),\n",
       " array(['Ung thư gan', 'Ung thư thận', 'Ung thư dạ dày', 'Xơ gan'],\n",
       "       dtype=object),\n",
       " array(['Viêm gan A', 'Viêm gan B', 'Viêm gan C'], dtype=object),\n",
       " array(['Viêm gan A', 'Viêm gan B', 'Viêm gan C'], dtype=object),\n",
       " array(['Đái tháo đường', 'Gout', 'Ngủ ngáy', 'Viêm xoang'], dtype=object),\n",
       " array(['Ăn chín, uống sôi', 'Thực phẩm bẩn, ôi thiu', 'Căng thẳng',\n",
       "        'Tập thể dục thường xuyên'], dtype=object),\n",
       " array(['Sưng chân và mắt cá chân',\n",
       "        'Ngón tay, ngón chân và môi xanh xao, nhợt nhạt', 'Dạ dày',\n",
       "        'Khó thở'], dtype=object),\n",
       " array(['Tập thể dục thể thao thường xuyên', 'Tránh căng thẳng, stress',\n",
       "        'Tăng cường việc đọc sách', 'Châm cứu'], dtype=object),\n",
       " array(['Vận động quá mức', 'Virus, nhiễm trùng',\n",
       "        'Tiêm phòng vaccine, mọc răng', 'Bị nhiễm lạnh'], dtype=object),\n",
       " array(['Viêm họng do viêm amidan', 'Tiểu đường', 'Ung thư vòm họng',\n",
       "        'Trĩ nội'], dtype=object),\n",
       " array(['Herpes sinh dục', 'Lậu', 'Chlamydia', 'Giang mai'], dtype=object),\n",
       " array(['U não', 'Thiếu mãu não', 'Tắc mạch máu não',\n",
       "        'Tai biến mạch máu não'], dtype=object),\n",
       " array(['Đều là các bệnh nguy hiểm', 'Đều là ung thư',\n",
       "        'Nguyên nhân chính xác không thể xác định',\n",
       "        'Xảy ra nhiều nhất ở người già'], dtype=object),\n",
       " array(['Viêm gan A', 'Viêm gan B', 'Viêm gan C'], dtype=object)]"
      ]
     },
     "execution_count": 378,
     "metadata": {},
     "output_type": "execute_result"
    }
   ],
   "source": [
    "import pandas as pd \n",
    "test = pd.read_csv(\"../public_test.csv\")\n",
    "cols = [col for col in test.columns if \"option\" in col]\n",
    "options = []\n",
    "for index, row in test[cols].iterrows():\n",
    "    options.append(row.dropna().values)\n",
    "    \n",
    "options"
   ]
  },
  {
   "cell_type": "code",
   "execution_count": 276,
   "metadata": {},
   "outputs": [],
   "source": [
    "question_vec = test[\"question\"].apply(lambda x: tf.transform([x]).todense()).values"
   ]
  },
  {
   "cell_type": "code",
   "execution_count": 277,
   "metadata": {},
   "outputs": [
    {
     "name": "stderr",
     "output_type": "stream",
     "text": [
      "100%|██████████| 100/100 [00:53<00:00,  1.87it/s]\n"
     ]
    }
   ],
   "source": [
    "idx_ls = []\n",
    "for question in tqdm(question_vec):\n",
    "    idx_ls.append(linear_kernel(question, dense).argmax())"
   ]
  },
  {
   "cell_type": "markdown",
   "metadata": {},
   "source": [
    "---"
   ]
  },
  {
   "cell_type": "code",
   "execution_count": 379,
   "metadata": {},
   "outputs": [
    {
     "data": {
      "text/plain": [
       "214"
      ]
     },
     "execution_count": 379,
     "metadata": {},
     "output_type": "execute_result"
    }
   ],
   "source": [
    "import random\n",
    "i = random.randint(0, 99)\n",
    "idx = idx_ls[i]\n",
    "idx"
   ]
  },
  {
   "cell_type": "code",
   "execution_count": 380,
   "metadata": {},
   "outputs": [
    {
     "name": "stdout",
     "output_type": "stream",
     "text": [
      "question:  Làm thế nào để phòng ngừa bệnh viêm thanh quản?.\n",
      "options:  ['A. Tránh hút thuốc và tránh xa khói thuốc' 'B.Uống nhiều nước'\n",
      " 'C. Tránh ăn khuya']\n",
      "corpus:  \n",
      "\n",
      "                    Trang chủ  \n",
      "CHUYÊN MỤC BỆNH HỌC  \n",
      "Tai mũi họng  \n",
      "Viêm thanh quản: Nguyên nhân, biến chứng và cách chữa trị\n",
      "Viêm thanh quản: Nguyên nhân, biến chứng và cách chữa trị\n",
      "Thanh quản được ví như “hộp thoại” giúp chúng ta thực hiện các trạng thái trong giao tiếp nói, hát, thì thầm hay la hét. Viêm thanh quản xảy ra khi “hộp thoại” và dây thanh âm bị viêm, gây ra những vấn đề như khàn tiếng, đau họng, thậm chí rơi vào tình trạng “có hình nhưng mất tiếng”. Vậy nguyên nhân, dấu hiệu, cách chữa trị và biến chứng của tình trạng này là gì? \n",
      "Mục lục\n",
      "Viêm thanh quản là gì?\n",
      "Nguyên nhân gây viêm thanh quản\n",
      "1. Viêm thanh quản cấp tính\n",
      "2. Viêm thanh quản mạn tính\n",
      " Triệu chứng bệnh viêm thanh quản\n",
      "Đối tượng có nguy cơ mắc bệnh viêm thanh quản\n",
      "Chẩn đoán bệnh viêm thanh quản\n",
      "Biến chứng và con đường lây truyền\n",
      "Điều trị viêm thanh quản\n",
      "1. Sử dụng thuốc\n",
      "2. Cách chăm sóc và chữa trị tại nhà\n",
      "3. Phương pháp khác\n",
      " Phòng ngừa viêm thanh quản\n",
      "Viêm thanh quản là gì? Viêm thanh quản là tình trạng viêm của thanh quản do hoạt động quá mức, bị kích ứng hoặc nhiễm trùng. Bên trong thanh quản là các dây thanh &#8211; hai nếp gấp của màng nhầy &#8211; bao phủ cơ và sụn. Thông thường, dây thanh đóng mở nhịp nhàng, tạo thành âm thanh thông qua chuyển động và rung động của chúng. \n",
      "Viêm thanh quản khiến cổ họng dễ bị kích ứng “Khi thanh quản bị viêm, dây thanh âm dễ rơi vào trạng thái bị kích thích. Gây tình trạng sưng ở dây thanh âm, làm biến dạng âm thanh khi không khí đi qua. Kết quả là giọng nói trở nên thay đổi, suy yếu. Trong một số trường hợp, người bị viêm thanh quản có thể rơi vào tình trạng mất giọng” BS.CKII Trần Thị Thúy Hằng, Trưởng khoa Tai mũi họng, Bệnh viện Đa khoa Tâm Anh TP.HCM cho biết. Viêm thanh quản có thể diễn ra trong thời gian ngắn (cấp tính) hoặc kéo dài (mãn tính). Hầu hết các trường hợp viêm thanh quản là do nhiễm virus tạm thời và không nghiêm trọng. Tuy nhiên, tình trạng khàn tiếng kéo dài đôi khi được xem là báo hiệu một tình trạng bệnh lý tiềm ẩn nghiêm trọng hơn. (1) \n",
      "Nguyên nhân gây viêm thanh quản \n",
      "1. Viêm thanh quản cấp tính Viêm thanh quản cấp tính là một vấn đề sức khỏe tạm thời. Nguyên nhân có thể do lạm dụng dây thanh quản hay do bị nhiễm trùng. Điều trị căn nguyên sẽ giúp thanh quản hết viêm. Theo đó viêm thanh quản cấp tính có thể do:  Nhiễm virus, vi khuẩn Sau viêm đường hô hấp: viêm mũi xoang, viêm Amidan, viêm VA ở trẻ em Sử dụng giọng gắng sức: nói nhiều, la hét, hát to Uống quá nhiều rượu bia   \n",
      "2. Viêm thanh quản mạn tính Viêm thanh quản mạn tính xảy ra do thanh quản tiếp xúc thời gian dài với các chất gây kích ứng. Tình trạng này thường ảnh hưởng diễn ra lâu hơn so với viêm thanh quản cấp tính. Viêm thanh quản mạn tính có thể do những nguyên nhân sau:  Tiếp xúc thường xuyên với hóa chất độc hại hoặc chất gây dị ứng Trào ngược axit từ dạ dày Viêm mũi xoang thường xuyên Hút thuốc hoặc ở gần những người hút thuốc Lạm dụng giọng nói Bội nhiễm nấm do sử dụng thường xuyên thuốc hít điều trị hen suyễn Thay đổi hình dạng dây thanh do tuổi cao cũng có thể gây khàn tiếng dai dẳng (2)   \n",
      "Triệu chứng bệnh viêm thanh quản Viêm thanh quản thường đến đột ngột và diễn biến nặng trong 5-7 ngày đầu. Các dấu hiệu thông thường là:  Giọng nói khàn khàn, nói hụt hơi, yếu giọng Thỉnh thoảng mất giọng Cơn ho khó chịu không biến mất Có nhu cầu hắng giọng thường xuyên Vướng họng, khó nuốt   Ngoài ra, tình trạng viêm nắp thanh quản (viêm thanh thiệt) là tình trạng viêm sưng mô ở dưới đáy lưỡi cũng có thể xảy ra. Nắp thanh quản là phần mô bao phủ thanh quản và khí quản (ống thở), nằm ở dưới đáy lưỡi có nhiệm vụ bảo vệ đường thở khi nuốt. Khi bị viêm nắp thanh quản, mô sưng lên, gây hẹp đường thở, nguy cơ tử vong nếu không được điều trị. Do đó, hãy đi khám ngay nếu thấy trẻ em xuất hiện các biểu hiện:  Khó nuốt, nuốt đau Khó thở (cần phải nghiêng người về phía trước để thở) Tiết nhiều nước bọt (chảy dãi) Khi thở phát ra âm thanh khò khè hay tiếng rít Giọng nói như bị bóp nghẹt Xuất hiện tình trạng sốt   Viêm thanh quản cũng có thể liên quan đến nhiễm cúm. Do đó, các triệu chứng nhiễm siêu vi cũng có thể xuất hiện. (3) \n",
      "Đối tượng có nguy cơ mắc bệnh viêm thanh quản Người lớn và trẻ nhỏ đều có nguy cơ bị viêm thanh quản. Ở mỗi độ tuổi khác nhau, yếu tố nguy cơ sẽ khác nhau. Cụ thể: Với người lớn:  Người thường xuyên tiếp xúc với các hóa chất độc hại, chất gây dị ứng Người bị trào ngược axit dạ dày Người bị viêm mũi xoang nhiều đợt Người thường xuyên hút thuốc hoặc ở gần những người hút thuốc Người sử dụng giọng nói quá nhiều như giáo viên, ca sĩ, MC, kinh doanh, buôn bán&#8230; Người bị nhiễm nấm do thường sử dụng ống hít hen suyễn   Với trẻ nhỏ:  Trẻ thường xuyên viêm mũi họng, sau đó viêm thanh quản Trẻ hay la hét hoặc hát quá nhiều gây phù nề dây thanh   \n",
      "Chẩn đoán bệnh viêm thanh quản Viêm thanh quản do virus thường biến mất trong vòng vài tuần, bạn có thể không cần đi khám. Tuy nhiên, nếu tình trạng diễn ra lâu hơn, nguy cơ ảnh hưởng đến dây thanh âm và thanh quản, bạn cần phải đi khám bác sĩ. (4) \n",
      "Kỹ thuật nội soi thanh quản giúp phát hiện những dấu hiệu của viêm thanh quản Bác sĩ có thể chỉ định chẩn đoán hình ảnh hoặc thực hiện phương pháp nội soi thanh quản bằng cách đưa một ống mềm, đường kính nhỏ có gắn camera siêu nhỏ đi vào miệng hoặc mũi để xem xét có hay không các dấu hiệu của viêm thanh quản:  Dây thanh phù nề, sung huyết, đọng nhầy mủ Băng thanh thất quá phát to và che kín dây thanh khi phát âm Ở mức độ nặng dây thanh bị quá sản, tròn như sợi dây thừng, mất bóng Dấu hiệu trào ngược dạ dày gây tổn thương thanh quản   Nếu xuất hiện một tổn thương hoặc khối u đáng ngờ, bác sĩ có thể yêu cầu sinh thiết để loại trừ ung thư vòm họng. Trong quá trình sinh thiết, bác sĩ sẽ lấy một mẫu mô nhỏ để kiểm tra trong phòng thí nghiệm. Bác sĩ cũng có thể làm xét nghiệm dị ứng da hoặc chụp X-quang để loại trừ các vấn đề khác. \n",
      "Biến chứng và con đường lây truyền Viêm thanh quản ở người lớn không nghiêm trọng nhưng bạn nên đi khám nếu bị khàn tiếng kéo dài hơn 2 tuần, sốt, ho hoặc khó thở. Đối với trẻ em, viêm thanh quản có thể gây ra vấn đề sức khỏe nghiêm trọng. Dó đó, bạn cần theo dõi tình trạng sốt và đưa trẻ đi khám nếu nằm trong các trường hợp sau:  Trẻ khóc không ra tiếng hoặc khàn giọng nhiều Khó nuốt hoặc khó thở, phát ra âm thanh khò khè khi hít vào hoặc chảy nhiều nước dãi hơn bình thường   Lưu ý, biến chứng viêm thanh quản ở trẻ có thể gây hẹp đường thở, viêm phế quản phổi… nguy hại hơn có thể đe dọa đến tính mạng. Do đó, hãy điều trị cấp cứu nếu trẻ bị viêm thanh quản và xuất hiện dấu hiệu thở hổn hển hoặc khó thở. (5) \n",
      "Điều trị viêm thanh quản Cách chữa viêm thanh quản tốt nhất là để bộ phận này được “nghỉ ngơi”, giảm bớt hoạt động dây thanh, nhờ đó bệnh dần thuyên giảm. Trường hợp bệnh không có dấu hiệu suy giảm, bạn có thể áp dụng các cách sau: \n",
      "1. Sử dụng thuốc Việc sử dụng thuốc cũng cần được sự tư vấn của bác sĩ chuyên khoa. Những loại thuốc thường được sử dụng trong chữa viêm thanh quản bao gồm:  Thuốc corticoid: Đây là một nhóm thuốc kháng viêm giúp làm giảm sưng tấy. Thuốc kháng sinh: Sử dụng khi nguyên nhân do vi khuẩn. Thuốc giảm đau. Bạn có thể dùng acetaminophen hoặc ibuprofen để giảm đau nhưng tần suất và lượng dùng cần tuân theo chỉ định của bác sĩ. Thuốc xịt họng thanh quản.   \n",
      "2. Cách chăm sóc và chữa trị tại nhà Một số phương pháp điều trị tại nhà giúp hỗ trợ điều trị bệnh bạn có thể áp dụng:  Uống nhiều nước, tránh uống rượu và cafein Sử dụng máy tạo độ ẩm Súc miệng bằng dung dịch sát khuẩn Dùng thuốc ngậm tại chỗ Tránh ở trong môi trường không khí khô, khói hoặc bụi Hạn chế nói nhiều, nói to, nói liên tục   \n",
      "3. Phương pháp khác Liệu pháp giọng nói: Bác sĩ trị liệu sẽ hướng dẫn bạn cách chăm sóc và giảm bớt những hoạt động quá mức gây tổn thương dây thanh. \n",
      "Phòng ngừa viêm thanh quản Để ngăn ngừa tình trạng viêm thanh quản, bạn cần tuân theo những quy tắc phòng bệnh sau: \n",
      "Không nên sử dụng thức ăn cay nóng để tránh làm trầm trọng thêm tình trạng viêm thanh quản  Tránh hút thuốc và tránh xa khói thuốc Hạn chế rượu và cafein Uống nhiều nước, khoảng 2 lít nước mỗi ngày Tránh dùng thức ăn cay chua, tránh ăn khuya, để tránh trào ngược dạ dày thực quản Sử dụng thực phẩm lành mạnh: ăn nhiều trái cây, rau xanh và ngũ cốc nguyên hạt. Tránh hắng giọng, hạn chế nói nhiều, nói to, nói liên tục, la hét Tránh nhiễm trùng đường hô hấp trên: Rửa tay thường xuyên và tránh tiếp xúc gần với những người đang bị nhiễm siêu vi.   Ngoài các cách phòng tránh viêm thanh quản, để cải thiện bệnh người bệnh cần biết bệnh viêm thanh quản ăn gì và kiêng ăn gì? Thực hiện chế độ ăn uống khoa học giúp cải thiện bệnh và phòng ngừa bệnh tái phát hiệu quả hơn.\n",
      " Hiện nay, BVĐK Tâm Anh là một trong những cơ sở y tế hàng đầu trong việc thăm khám và điều trị các bệnh về Tai-Mũi-Họng. Không chỉ là nơi hội tụ các chuyên gia, bác sĩ giỏi chuyên môn, giàu kinh nghiệm, BVĐK Tâm Anh còn được trang bị hệ thống thiết bị máy móc hiện đại, sẵn sàng đáp ứng mọi nhu cầu khám chữa bệnh kỹ thuật cao cho người dân, nhất là các bệnh cần điều trị chuyên sâu chưa phổ biến ở các bệnh viện hiện nay như thanh học, thính học và Tiền đình. \n",
      " Để tìm hiểu nguyên nhân cũng như cách điều trị viêm thanh quản, bạn có thể liên hệ Hệ thống BVĐK Tâm Anh:  Hà Nội  108 Hoàng Như Tiếp, P.Bồ Đề, Q.Long Biên, TP. Hà Nội Hotline: 024 3872 3872 &#8211; 024 7106 6858    TP.HCM  2B Phổ Quang, P.2, Q.Tân Bình, TP. Hồ Chí Minh Hotline: 0287 102 6789 &#8211; 093 180 6858    Fanpage: https://www.facebook.com/benhvientamanh                                        \n",
      "\n"
     ]
    }
   ],
   "source": [
    "question = test[\"question\"][i]\n",
    "print(\"question: \", question)\n",
    "print(\"options: \", options[i])\n",
    "print(\"corpus: \", corpus[idx])"
   ]
  },
  {
   "cell_type": "markdown",
   "metadata": {},
   "source": [
    "BM25"
   ]
  },
  {
   "cell_type": "code",
   "execution_count": 381,
   "metadata": {},
   "outputs": [],
   "source": [
    "class BM25:\n",
    "\n",
    "    def __init__(self, k1=1.5, b=0.75):\n",
    "        self.b = b\n",
    "        self.k1 = k1\n",
    "\n",
    "    def fit(self, corpus):\n",
    "        \"\"\"\n",
    "        Fit the various statistics that are required to calculate BM25 ranking\n",
    "        score using the corpus given.\n",
    "\n",
    "        Parameters\n",
    "        ----------\n",
    "        corpus : list[list[str]]\n",
    "            Each element in the list represents a document, and each document\n",
    "            is a list of the terms.\n",
    "\n",
    "        Returns\n",
    "        -------\n",
    "        self\n",
    "        \"\"\"\n",
    "        tf = []\n",
    "        df = {}\n",
    "        idf = {}\n",
    "        doc_len = []\n",
    "        corpus_size = 0\n",
    "        for document in corpus:\n",
    "            corpus_size += 1\n",
    "            doc_len.append(len(document))\n",
    "\n",
    "            # compute tf (term frequency) per document\n",
    "            frequencies = {}\n",
    "            for term in document:\n",
    "                term_count = frequencies.get(term, 0) + 1\n",
    "                frequencies[term] = term_count\n",
    "\n",
    "            tf.append(frequencies)\n",
    "\n",
    "            # compute df (document frequency) per term\n",
    "            for term, _ in frequencies.items():\n",
    "                df_count = df.get(term, 0) + 1\n",
    "                df[term] = df_count\n",
    "\n",
    "        for term, freq in df.items():\n",
    "            idf[term] = math.log(1 + (corpus_size - freq + 0.5) / (freq + 0.5))\n",
    "\n",
    "        self.tf_ = tf\n",
    "        self.df_ = df\n",
    "        self.idf_ = idf\n",
    "        self.doc_len_ = doc_len\n",
    "        self.corpus_ = corpus\n",
    "        self.corpus_size_ = corpus_size\n",
    "        self.avg_doc_len_ = sum(doc_len) / corpus_size\n",
    "        return self\n",
    "\n",
    "    def search(self, query):\n",
    "        scores = [self._score(query, index) for index in range(self.corpus_size_)]\n",
    "        return scores\n",
    "\n",
    "    def _score(self, query, index):\n",
    "        score = 0.0\n",
    "\n",
    "        doc_len = self.doc_len_[index]\n",
    "        frequencies = self.tf_[index]\n",
    "        for term in query:\n",
    "            if term not in frequencies:\n",
    "                continue\n",
    "\n",
    "            freq = frequencies[term]\n",
    "            numerator = self.idf_[term] * freq * (self.k1 + 1)\n",
    "            denominator = freq + self.k1 * (1 - self.b + self.b * doc_len / self.avg_doc_len_)\n",
    "            score += (numerator / denominator)\n",
    "\n",
    "        return score"
   ]
  },
  {
   "cell_type": "code",
   "execution_count": 382,
   "metadata": {},
   "outputs": [],
   "source": [
    "docs = corpus[idx].replace(\"\\n\", \" \").split(\". \")\n",
    "texts = [\n",
    "    [word for word in document.lower().split()]\n",
    "    for document in docs\n",
    "]"
   ]
  },
  {
   "cell_type": "code",
   "execution_count": 383,
   "metadata": {},
   "outputs": [
    {
     "data": {
      "text/plain": [
       "<__main__.BM25 at 0x7f0879050190>"
      ]
     },
     "execution_count": 383,
     "metadata": {},
     "output_type": "execute_result"
    }
   ],
   "source": [
    "bm25 = BM25()\n",
    "bm25.fit(texts)"
   ]
  },
  {
   "cell_type": "code",
   "execution_count": 384,
   "metadata": {},
   "outputs": [
    {
     "data": {
      "text/plain": [
       "'Làm thế nào để phòng ngừa bệnh viêm thanh quản?.'"
      ]
     },
     "execution_count": 384,
     "metadata": {},
     "output_type": "execute_result"
    }
   ],
   "source": [
    "question"
   ]
  },
  {
   "cell_type": "code",
   "execution_count": 385,
   "metadata": {},
   "outputs": [
    {
     "name": "stdout",
     "output_type": "stream",
     "text": [
      "['  Ngoài các cách phòng tránh viêm thanh quản, để cải thiện bệnh người bệnh cần biết bệnh viêm thanh quản ăn gì và kiêng ăn gì? Thực hiện chế độ ăn uống khoa học giúp cải thiện bệnh và phòng ngừa bệnh tái phát hiệu quả hơn'\n",
      " ' Phòng ngừa viêm thanh quản Để ngăn ngừa tình trạng viêm thanh quản, bạn cần tuân theo những quy tắc phòng bệnh sau:  Không nên sử dụng thức ăn cay nóng để tránh làm trầm trọng thêm tình trạng viêm thanh quản  Tránh hút thuốc và tránh xa khói thuốc Hạn chế rượu và cafein Uống nhiều nước, khoảng 2 lít nước mỗi ngày Tránh dùng thức ăn cay chua, tránh ăn khuya, để tránh trào ngược dạ dày thực quản Sử dụng thực phẩm lành mạnh: ăn nhiều trái cây, rau xanh và ngũ cốc nguyên hạt'\n",
      " 'Phương pháp khác  Phòng ngừa viêm thanh quản Viêm thanh quản là gì? Viêm thanh quản là tình trạng viêm của thanh quản do hoạt động quá mức, bị kích ứng hoặc nhiễm trùng'\n",
      " 'Trong quá trình sinh thiết, bác sĩ sẽ lấy một mẫu mô nhỏ để kiểm tra trong phòng thí nghiệm'\n",
      " '(5)  Điều trị viêm thanh quản Cách chữa viêm thanh quản tốt nhất là để bộ phận này được “nghỉ ngơi”, giảm bớt hoạt động dây thanh, nhờ đó bệnh dần thuyên giảm']\n"
     ]
    }
   ],
   "source": [
    "k = 5\n",
    "\n",
    "\n",
    "query = question.split()\n",
    "\n",
    "scores = bm25.search(query)\n",
    "scores_index = np.argsort(scores)\n",
    "scores_index = scores_index[::-1]\n",
    "\n",
    "top_k = np.array([docs[i] for i in scores_index])[:k]\n",
    "print(top_k)\n"
   ]
  },
  {
   "cell_type": "markdown",
   "metadata": {},
   "source": [
    "Load tokenize của model vietnamese-bi-encoder"
   ]
  },
  {
   "cell_type": "markdown",
   "metadata": {},
   "source": [
    "!mkdir cache"
   ]
  },
  {
   "cell_type": "code",
   "execution_count": 386,
   "metadata": {},
   "outputs": [
    {
     "name": "stdout",
     "output_type": "stream",
     "text": [
      "[[ 0.11881649 -0.3282699  -0.28465244 ... -0.30702755 -0.27665693\n",
      "  -0.03120285]\n",
      " [ 0.3321082  -0.17807029 -0.3979996  ... -0.3313473  -0.44187993\n",
      "  -0.1821429 ]]\n"
     ]
    }
   ],
   "source": [
    "sentences = [\"Cô ấy là một người vui_tính .\", \"Cô ấy cười nói suốt cả ngày .\"]\n",
    "\n",
    "model = SentenceTransformer('bkai-foundation-models/vietnamese-bi-encoder', cache_folder=\"./cache\")\n",
    "embeddings = model.encode(sentences)\n",
    "print(embeddings)"
   ]
  },
  {
   "cell_type": "code",
   "execution_count": 387,
   "metadata": {},
   "outputs": [
    {
     "name": "stderr",
     "output_type": "stream",
     "text": [
      "17563.82s - pydevd: Sending message related to process being replaced timed-out after 5 seconds\n"
     ]
    },
    {
     "name": "stdout",
     "output_type": "stream",
     "text": [
      "mkdir: cannot create directory ‘cache/vncorenlp’: File exists\n"
     ]
    }
   ],
   "source": [
    "!mkdir cache/vncorenlp"
   ]
  },
  {
   "cell_type": "code",
   "execution_count": 388,
   "metadata": {},
   "outputs": [],
   "source": [
    "# import py_vncorenlp\n",
    "# py_vncorenlp.download_model(save_dir='./cache/vncorenlp')\n",
    "# rdrsegmenter = py_vncorenlp.VnCoreNLP(annotators=[\"wseg\"], save_dir='./cache/vncorenlp')\n",
    "\n",
    "# sentences = []\n",
    "# for sentence in top_k:\n",
    "#     sentences.append(rdrsegmenter.word_segment(sentence))"
   ]
  },
  {
   "cell_type": "code",
   "execution_count": 389,
   "metadata": {},
   "outputs": [
    {
     "data": {
      "text/plain": [
       "array([[-0.00117383,  0.15045714,  0.0761619 , ...,  0.03245423,\n",
       "        -0.13438097,  0.18795773],\n",
       "       [-0.16052395, -0.04282078,  0.20286298, ..., -0.0879579 ,\n",
       "        -0.23247379, -0.13781866],\n",
       "       [-0.3134925 , -0.05697618,  0.19879127, ...,  0.02982133,\n",
       "        -0.1524532 , -0.15521695],\n",
       "       [ 0.04639894, -0.31944302, -0.05557765, ...,  0.08874384,\n",
       "        -0.03502158, -0.21331544],\n",
       "       [ 0.08828812,  0.20228751,  0.16800243, ...,  0.09515119,\n",
       "        -0.14484206,  0.06888296]], dtype=float32)"
      ]
     },
     "execution_count": 389,
     "metadata": {},
     "output_type": "execute_result"
    }
   ],
   "source": [
    "embeddings = model.encode(top_k)\n",
    "embeddings"
   ]
  },
  {
   "cell_type": "code",
   "execution_count": 390,
   "metadata": {},
   "outputs": [
    {
     "data": {
      "text/plain": [
       "array([-1.40449196e-01, -1.68911442e-02,  1.78298607e-01, -1.15601636e-01,\n",
       "        1.08139947e-01,  7.91881382e-02, -2.63222426e-01,  5.54948375e-02,\n",
       "        9.67395380e-02, -3.75791103e-01,  3.48679274e-01, -3.14674050e-01,\n",
       "       -7.80258849e-02, -9.58080813e-02, -3.61471623e-02,  7.94890374e-02,\n",
       "        1.52323037e-01, -1.77089144e-02,  3.09603989e-01, -2.13233277e-01,\n",
       "       -5.13545163e-02, -1.52747348e-01, -3.04675162e-01,  3.63164008e-01,\n",
       "        2.27138743e-01,  2.29089662e-01, -4.49265614e-02, -4.47065979e-02,\n",
       "       -2.92879436e-02, -2.18359586e-02,  8.41486156e-02,  5.82868010e-02,\n",
       "        2.55567819e-01, -5.14853835e-01,  3.24880749e-01, -1.69542238e-01,\n",
       "        1.46279916e-01, -2.78319558e-03, -1.89438015e-01,  5.18633306e-01,\n",
       "        1.70856580e-01, -2.59642899e-01,  1.04496881e-01,  9.59669054e-02,\n",
       "       -7.05282241e-02, -1.68701544e-01, -4.68855016e-02,  4.13821228e-02,\n",
       "        8.13750774e-02,  2.61294693e-01, -3.99228394e-01,  2.66292185e-01,\n",
       "        2.94013202e-01,  5.59391975e-01, -3.10922652e-01,  1.56606053e-04,\n",
       "        1.56963214e-01,  2.45301276e-01, -1.32493958e-01, -1.94586024e-01,\n",
       "        7.41610229e-02,  3.57414745e-02,  2.71695070e-02,  3.97854373e-02,\n",
       "       -5.59465662e-02, -1.99904606e-01,  2.31451437e-01,  2.28851549e-02,\n",
       "       -6.57238141e-02,  9.74233374e-02, -3.31557193e-03,  1.45685524e-01,\n",
       "        2.99028784e-01, -4.90087084e-02, -2.31462196e-01,  3.07066023e-01,\n",
       "       -2.05382153e-01,  3.31840575e-01,  3.14437240e-01, -5.62171228e-02,\n",
       "        1.12489395e-01,  7.26238489e-02, -3.89839485e-02,  2.51550734e-01,\n",
       "        1.11724094e-01, -5.28005064e-01, -9.96793881e-02,  8.77803266e-02,\n",
       "       -2.52115190e-01,  1.45527408e-01, -1.96768776e-01, -8.37291628e-02,\n",
       "        4.16454732e-01,  1.11585349e-01,  8.99653733e-02,  2.31498659e-01,\n",
       "        3.66312079e-02,  1.45805180e-01,  4.33685273e-01, -3.22627008e-01,\n",
       "        2.80801147e-01,  7.77879283e-02, -1.82278618e-01, -5.94172766e-03,\n",
       "       -1.54333171e-02,  1.21493354e-01,  3.38807911e-01, -2.54811287e-01,\n",
       "        1.72655040e-03,  1.32316262e-01,  9.70771983e-02, -1.93495318e-01,\n",
       "        1.17374741e-01,  1.18650325e-01, -8.08358118e-02,  1.55412212e-01,\n",
       "       -1.10987224e-01,  7.86089003e-02, -4.58779894e-02,  4.17157635e-02,\n",
       "        1.37507722e-01,  1.72862872e-01, -4.20434140e-02, -3.76219153e-02,\n",
       "       -4.53169495e-01,  7.48162270e-02, -1.10613689e-01, -1.85096204e-01,\n",
       "       -2.60985821e-01,  1.31924525e-01,  1.35788828e-01, -1.74554680e-02,\n",
       "        6.59707338e-02,  2.86717322e-02,  2.94102162e-01, -1.82465762e-01,\n",
       "       -2.97039777e-01,  1.16094038e-01, -1.67852014e-01, -4.35290597e-02,\n",
       "        9.82335489e-03, -2.14300960e-01,  5.92116304e-02, -2.74027914e-01,\n",
       "        2.09720716e-01, -2.93688685e-01,  3.78693193e-01,  1.01274699e-01,\n",
       "        4.12245505e-02,  1.57502398e-01,  4.32611912e-01, -1.35579417e-02,\n",
       "        1.73143461e-01,  2.07145303e-01,  1.07210368e-01, -1.88253090e-01,\n",
       "        1.00241564e-01, -3.45162421e-01,  2.28013605e-01,  1.83287859e-01,\n",
       "       -3.30213867e-02, -9.15127248e-02, -1.44821495e-01, -2.93910652e-01,\n",
       "       -5.68606667e-02, -1.08182162e-01,  2.96938960e-02, -1.33961752e-01,\n",
       "        5.06226122e-01,  1.36911392e-01, -1.07377432e-01, -1.90179814e-02,\n",
       "       -1.00094797e-02, -1.18294004e-02, -2.75334567e-01,  2.07527831e-01,\n",
       "       -2.19734147e-01, -2.11231485e-01,  6.90424889e-02, -1.45496428e-01,\n",
       "        2.56611228e-01,  1.76507398e-01, -8.03606287e-02,  2.10714862e-02,\n",
       "        5.92434593e-02, -2.44956926e-01, -2.01480649e-02, -3.45941000e-02,\n",
       "        5.26793242e-01,  4.16977406e-02,  8.39602128e-02, -2.99919426e-01,\n",
       "        2.55292594e-01, -2.91279912e-01,  1.36949196e-01, -6.95434660e-02,\n",
       "       -9.70690995e-02, -1.30603993e-02,  1.34252831e-01, -4.30183947e-01,\n",
       "        1.33765668e-01,  8.19627419e-02, -5.99103682e-02,  4.10412662e-02,\n",
       "       -2.99411178e-01, -3.31190497e-01,  4.57609408e-02,  1.98685989e-01,\n",
       "       -5.57908900e-02,  3.30356926e-01, -1.84191301e-01,  1.60410292e-02,\n",
       "        2.13976160e-01, -2.13931173e-01,  3.15484375e-01, -2.91229393e-02,\n",
       "       -1.58599436e-01,  1.03894070e-01,  8.16645697e-02,  2.44004577e-01,\n",
       "       -6.03019819e-02, -1.06899425e-01, -1.07857451e-01, -1.48421243e-01,\n",
       "        4.71424788e-01, -1.91312358e-01,  3.07635311e-02,  6.49471059e-02,\n",
       "       -3.09503496e-01, -7.41591956e-03, -4.62624244e-02,  2.23177746e-01,\n",
       "       -5.74694015e-02,  4.27752100e-02,  1.70057848e-01, -4.03083079e-02,\n",
       "       -3.60613875e-02, -9.86831486e-02, -7.01512098e-02,  2.21825629e-01,\n",
       "       -2.69496560e-01, -6.86418358e-03, -1.22713156e-01,  2.12259404e-02,\n",
       "        1.05372533e-01, -2.55190164e-01, -2.10015386e-01,  2.01218594e-02,\n",
       "       -5.08190870e-01, -1.18618898e-01,  2.43946090e-01,  3.16556156e-01,\n",
       "       -4.84780595e-02,  1.46691546e-01,  2.41097271e-01,  1.06554836e-01,\n",
       "        5.08138351e-02, -6.33984432e-02, -3.39508265e-01,  2.28620842e-02,\n",
       "       -4.82931025e-02,  5.36197089e-02, -1.25171050e-01, -3.02453041e-01,\n",
       "       -2.89470386e-02,  9.63973850e-02, -3.30276579e-01, -1.67399585e-01,\n",
       "       -8.19718987e-02, -2.33429074e-02,  4.36861545e-01,  1.98531419e-01,\n",
       "        1.82327181e-01,  2.39048541e-01, -1.81000028e-02,  2.24930361e-01,\n",
       "       -1.18224002e-01, -7.11718053e-02,  5.92554994e-02, -2.69534271e-02,\n",
       "        1.32162079e-01,  1.62250012e-01,  1.16730876e-01,  3.74204591e-02,\n",
       "        4.94590495e-03,  3.49828124e-01, -2.29792267e-01, -4.37200814e-01,\n",
       "        5.57819568e-02,  2.58899808e-01,  4.58422787e-02,  1.29651651e-01,\n",
       "        2.76460290e-01, -3.46329212e-01,  9.24747810e-02,  2.16494560e-01,\n",
       "       -9.04415026e-02,  1.18895605e-01, -3.96304391e-03,  3.71987432e-01,\n",
       "       -1.32837132e-01, -7.65658394e-02,  1.75178394e-01, -1.53868750e-01,\n",
       "       -1.33712608e-02,  2.23582298e-01,  5.37243545e-01,  5.87456822e-02,\n",
       "        4.07216139e-02,  7.73960771e-03, -2.42139637e-01,  1.90544024e-01,\n",
       "       -2.80667186e-01, -2.49494836e-01, -1.35861337e-01,  2.16496557e-01,\n",
       "        3.94546568e-01, -1.73893958e-01,  1.14799045e-01, -4.06019129e-02,\n",
       "       -3.87052476e-01, -5.53286809e-04, -4.66150910e-01,  1.24600064e-02,\n",
       "       -2.66331229e-02, -7.93011039e-02,  1.12928502e-01, -2.56440073e-01,\n",
       "       -1.95147947e-03, -1.35551700e-02,  4.68881428e-03, -1.46246001e-01,\n",
       "       -8.82396325e-02,  2.40921274e-01,  1.22947022e-01, -2.09098816e-01,\n",
       "       -4.12330747e-01,  1.78266633e-02,  1.22427143e-01,  8.69610608e-02,\n",
       "       -1.78255979e-02, -6.28414154e-02, -1.67607889e-01,  3.60269397e-01,\n",
       "        3.31358999e-01, -1.81792483e-01,  3.56338233e-01, -4.13432643e-02,\n",
       "       -1.80001050e-01, -6.33292943e-02, -1.47778243e-01,  2.38801297e-02,\n",
       "        2.36846413e-02,  1.81332827e-01,  2.79126838e-02,  9.76108387e-02,\n",
       "        1.35434166e-01,  4.78158183e-02, -5.71636595e-02, -1.86733473e-02,\n",
       "       -2.59170592e-01,  5.35708606e-01, -8.90951371e-04, -1.34254649e-01,\n",
       "       -6.17632456e-02,  2.63829648e-01, -1.25147462e-01, -2.34173052e-02,\n",
       "       -1.17883548e-01,  3.60056162e-02, -3.83139262e-03,  2.49130487e-01,\n",
       "       -4.59787399e-01,  2.11966276e-01, -6.04996793e-02,  3.01187426e-01,\n",
       "        1.39623797e-02, -1.49792582e-01, -6.03513569e-02, -4.59904671e-01,\n",
       "       -1.73989370e-01, -6.54342845e-02,  5.09000719e-01, -1.91222191e-01,\n",
       "        1.32508606e-01, -3.65085155e-01, -2.16157690e-01,  2.38237679e-01,\n",
       "       -3.52349252e-01, -2.93271691e-01, -1.42530680e-01, -4.89230335e-01,\n",
       "        3.32014374e-02, -1.03622213e-01, -1.46427333e-01,  1.92951575e-01,\n",
       "        4.63874526e-02,  2.21284237e-02, -5.46441138e-01,  1.79043472e-01,\n",
       "       -6.11525655e-01,  1.65685788e-01, -1.71860993e-01,  4.07289602e-02,\n",
       "        6.61328286e-02, -1.25564322e-01,  1.87664255e-01,  2.94510365e-01,\n",
       "        3.84143978e-01,  3.82329226e-02,  6.44028280e-03,  3.99556942e-02,\n",
       "       -8.30560550e-02, -2.26846226e-02, -4.36545163e-02,  1.08766392e-01,\n",
       "       -2.99063027e-02, -2.32847072e-02, -6.64455220e-02,  6.02446377e-01,\n",
       "       -9.67546031e-02,  1.16568528e-01, -3.63282189e-02, -8.05268288e-02,\n",
       "        3.38911235e-01,  6.82066008e-02,  1.41329214e-01, -2.84695625e-01,\n",
       "        2.50729412e-01,  1.11268917e-02, -2.80979216e-01,  3.44778076e-02,\n",
       "       -6.09376691e-02,  1.90751255e-03,  3.32607836e-01, -1.14625931e-01,\n",
       "       -2.28782445e-01, -2.03765482e-01, -8.81826431e-02, -1.27151176e-01,\n",
       "        2.53656179e-01, -9.54659954e-02,  5.49600460e-02, -9.63478535e-02,\n",
       "       -3.48504968e-02, -9.77978855e-02, -4.19522859e-02, -7.18626231e-02,\n",
       "       -3.11942082e-02, -1.47480499e-02,  1.10210413e-02, -2.68986881e-01,\n",
       "        1.45118786e-02,  7.16327131e-02, -5.95918186e-02, -5.99043295e-02,\n",
       "        1.19949199e-01,  1.08809166e-01,  6.70363614e-03,  1.21358246e-01,\n",
       "       -5.07448725e-02,  1.74275249e-01,  5.29876836e-02,  2.89448589e-01,\n",
       "        1.94694459e-01,  2.65645504e-01,  6.14897348e-02,  8.84250104e-02,\n",
       "       -4.39090952e-02,  5.87916095e-03, -2.38823757e-01,  1.50546074e-01,\n",
       "        1.19384006e-01,  8.09085183e-03,  2.59204775e-01,  1.19355418e-01,\n",
       "        3.25143874e-01, -4.05012481e-02,  8.59929249e-03,  2.72786081e-01,\n",
       "        3.68203104e-01,  2.75026649e-01,  6.88269585e-02, -1.17857926e-01,\n",
       "        1.84802920e-01, -1.62677273e-01, -6.09073378e-02,  4.27147979e-03,\n",
       "        1.59696773e-01,  9.56229046e-02, -3.13099861e-01,  2.56756693e-01,\n",
       "       -3.02863307e-02,  1.11516014e-01, -3.68841112e-01, -3.45753622e-04,\n",
       "        1.12298407e-01,  1.56203076e-01,  4.25031893e-02, -5.20323589e-02,\n",
       "        2.76336759e-01, -3.35949689e-01, -1.95874214e-01, -1.57536924e-01,\n",
       "        9.72617939e-02, -4.08492386e-01,  5.22374399e-02, -1.86136529e-01,\n",
       "        1.54424906e-01, -8.53281543e-02,  1.87303856e-01,  3.82571691e-03,\n",
       "       -1.28633931e-01, -1.99840479e-02, -3.85371060e-03,  2.09259912e-02,\n",
       "        1.67767156e-03,  7.09559619e-02, -3.08096796e-01,  9.25157964e-02,\n",
       "        2.19788566e-01,  2.09119335e-01, -2.94211134e-02, -1.14593998e-01,\n",
       "        3.49266410e-01, -1.06668502e-01, -3.31697874e-02,  1.36758402e-01,\n",
       "       -5.03802150e-02,  1.22054137e-01,  6.38352111e-02,  9.59019810e-02,\n",
       "        1.45409256e-01,  1.98914230e-01,  7.05412626e-02,  2.05787197e-02,\n",
       "        1.71220765e-01, -2.61590481e-01, -3.41974318e-01, -1.95893317e-01,\n",
       "        2.29769230e-01, -2.58991301e-01,  9.94108766e-02,  2.73615360e-01,\n",
       "        4.84609529e-02, -2.44805977e-01,  2.46469676e-01, -2.76286662e-01,\n",
       "       -2.16357373e-02,  9.41168815e-02, -1.39939457e-01, -1.76262632e-01,\n",
       "       -9.32224169e-02,  4.01156303e-03,  1.91391841e-01, -2.61841919e-02,\n",
       "        3.41564029e-01,  8.54303539e-02, -4.53892127e-02,  1.81496307e-01,\n",
       "        1.95112512e-01,  6.40869737e-02, -3.93922120e-01, -2.05696955e-01,\n",
       "        4.11673188e-01, -7.74171576e-02, -2.60282636e-01, -2.43426785e-01,\n",
       "        1.00310460e-01, -1.40648559e-01, -3.49493593e-01,  6.86993659e-01,\n",
       "        6.76639527e-02, -4.54511568e-02,  2.56982684e-01,  1.09618299e-01,\n",
       "        2.57545859e-01,  2.62651443e-01, -5.03399134e-01, -9.53838602e-03,\n",
       "       -1.23082688e-02,  5.98638654e-02,  1.01754144e-01,  2.89490551e-01,\n",
       "       -9.36124846e-02,  2.91156203e-01, -1.34771794e-01,  2.09421158e-01,\n",
       "       -5.44414520e-01,  1.10663004e-01,  3.68355587e-02,  2.56681740e-01,\n",
       "       -9.20019671e-02, -1.50109261e-01, -8.66678730e-02, -1.82882771e-01,\n",
       "       -1.83092743e-01,  6.69496730e-02,  3.62349078e-02,  5.28632943e-03,\n",
       "        1.49724901e-01,  2.04722397e-02,  1.62112385e-01, -2.41038114e-01,\n",
       "       -2.59015709e-01,  5.57915941e-02, -4.39289249e-02,  6.47936836e-02,\n",
       "       -7.84815848e-02,  2.46611387e-01,  2.49665171e-01, -9.94810611e-02,\n",
       "        1.78253353e-01, -1.32499531e-01, -1.20808177e-01,  1.98441893e-01,\n",
       "        3.16077285e-02,  3.60092223e-01,  1.11808427e-01,  4.09695171e-02,\n",
       "       -4.74747509e-01,  4.72089201e-02, -1.99600354e-01,  6.16341131e-03,\n",
       "       -1.15201242e-01,  3.29192355e-02,  2.26305589e-01, -1.48671523e-01,\n",
       "        1.18586764e-01, -1.19713172e-01, -3.43885541e-01, -2.76210103e-02,\n",
       "        2.53306270e-01,  1.78762212e-01,  6.59671575e-02, -6.04198361e-03,\n",
       "       -3.18394341e-02,  2.82112241e-01, -2.52025247e-01, -3.39951515e-01,\n",
       "        8.56747702e-02, -1.34904802e-01, -6.03695571e-01, -5.19738644e-02,\n",
       "        4.05527204e-01,  5.48815355e-02, -3.38664465e-02,  3.20336074e-02,\n",
       "        5.85880838e-02, -2.22803243e-02, -2.33785342e-02, -8.71947557e-02,\n",
       "       -1.26612447e-02,  1.49909654e-04,  3.66002657e-02, -1.61469728e-01,\n",
       "       -1.78591087e-01,  1.43438354e-01, -1.20759293e-01, -1.53462902e-01,\n",
       "        1.81216951e-02,  3.26715857e-01,  3.83356735e-02, -1.48926407e-01,\n",
       "        1.19628400e-01,  2.35814944e-01, -9.67181548e-02, -8.69184211e-02,\n",
       "       -9.13022757e-02,  1.32241368e-01, -1.12848639e-01,  1.60337001e-01,\n",
       "        1.10318929e-01,  4.76076156e-01, -1.36751667e-01, -2.54587322e-01,\n",
       "        3.17325234e-01,  1.11134222e-03, -1.02984168e-01, -6.13113306e-02,\n",
       "       -9.18807238e-02,  1.15084983e-02, -4.37414572e-02,  1.95617944e-01,\n",
       "       -1.82723343e-01,  1.58681050e-01, -4.14989114e-01, -1.43008232e-01,\n",
       "        2.71150976e-01,  5.38373329e-02,  1.84404060e-01, -1.11201502e-01,\n",
       "       -9.09100696e-02, -1.40014328e-02,  2.20429860e-02, -3.55416387e-01,\n",
       "       -2.97281351e-02, -2.21629694e-01, -1.57061249e-01,  3.51391464e-01,\n",
       "       -1.00067951e-01, -5.86303622e-02, -2.32932195e-01, -1.74426530e-02,\n",
       "       -1.64703801e-01, -5.52942336e-04, -1.89546179e-02,  1.15107730e-01,\n",
       "        1.52787790e-01, -1.48573563e-01,  2.10499763e-01, -5.52008189e-02,\n",
       "       -5.40296920e-02, -1.81748658e-01,  2.59566307e-01, -3.77195850e-02,\n",
       "       -2.97373384e-01,  1.32818714e-01,  1.16197325e-01,  9.59282070e-02,\n",
       "       -6.00154623e-02, -3.08636755e-01, -4.21121031e-01,  2.47290239e-01,\n",
       "        7.12933317e-02,  9.80981719e-03, -4.67654228e-01,  1.55667767e-01,\n",
       "        1.40112322e-02, -3.55768770e-01, -1.83524296e-01, -7.24599287e-02,\n",
       "       -6.76993355e-02,  1.38431355e-01, -2.20102817e-01,  1.99762490e-02,\n",
       "       -2.11822897e-01, -3.63306445e-03, -2.98028767e-01, -2.83437878e-01,\n",
       "        3.12476158e-02, -2.29439303e-01, -5.67465961e-01,  1.39286765e-03,\n",
       "        8.04758891e-02,  2.00814158e-01, -1.69224173e-01,  1.99357811e-02,\n",
       "        3.12973887e-01,  3.80835533e-02,  5.28642982e-02,  2.50048697e-01,\n",
       "       -9.84599665e-02,  2.01665789e-01,  5.92755228e-02, -3.43939364e-01,\n",
       "       -3.27996820e-01,  1.26068383e-01,  5.38202226e-01,  1.04089484e-01,\n",
       "       -1.73911843e-02, -2.17028067e-01,  1.41211256e-01,  9.12273377e-02,\n",
       "       -2.01772779e-01,  4.21543280e-03, -1.77496523e-01, -1.14832170e-01],\n",
       "      dtype=float32)"
      ]
     },
     "execution_count": 390,
     "metadata": {},
     "output_type": "execute_result"
    }
   ],
   "source": [
    "query = model.encode(question)\n",
    "query"
   ]
  },
  {
   "cell_type": "code",
   "execution_count": 391,
   "metadata": {},
   "outputs": [
    {
     "data": {
      "text/plain": [
       "' Phòng ngừa viêm thanh quản Để ngăn ngừa tình trạng viêm thanh quản, bạn cần tuân theo những quy tắc phòng bệnh sau:  Không nên sử dụng thức ăn cay nóng để tránh làm trầm trọng thêm tình trạng viêm thanh quản  Tránh hút thuốc và tránh xa khói thuốc Hạn chế rượu và cafein Uống nhiều nước, khoảng 2 lít nước mỗi ngày Tránh dùng thức ăn cay chua, tránh ăn khuya, để tránh trào ngược dạ dày thực quản Sử dụng thực phẩm lành mạnh: ăn nhiều trái cây, rau xanh và ngũ cốc nguyên hạt'"
      ]
     },
     "execution_count": 391,
     "metadata": {},
     "output_type": "execute_result"
    }
   ],
   "source": [
    "from sklearn.metrics.pairwise import cosine_similarity\n",
    "idx = cosine_similarity([query], embeddings).argmax()\n",
    "answer = top_k[idx]\n",
    "answer"
   ]
  },
  {
   "cell_type": "code",
   "execution_count": 392,
   "metadata": {},
   "outputs": [
    {
     "data": {
      "text/plain": [
       "id                                                level1_106\n",
       "question    Làm thế nào để phòng ngừa bệnh viêm thanh quản?.\n",
       "option_1           A. Tránh hút thuốc và tránh xa khói thuốc\n",
       "option_2                                   B.Uống nhiều nước\n",
       "option_3                                   C. Tránh ăn khuya\n",
       "option_4                                                 NaN\n",
       "option_5                                                 NaN\n",
       "option_6                                                 NaN\n",
       "Name: 58, dtype: object"
      ]
     },
     "execution_count": 392,
     "metadata": {},
     "output_type": "execute_result"
    }
   ],
   "source": [
    "test.loc[i]"
   ]
  },
  {
   "cell_type": "code",
   "execution_count": 402,
   "metadata": {},
   "outputs": [
    {
     "data": {
      "text/plain": [
       "(1, 3)"
      ]
     },
     "execution_count": 402,
     "metadata": {},
     "output_type": "execute_result"
    }
   ],
   "source": [
    "scores = cosine_similarity([model.encode(answer)], model.encode(options[i]))\n",
    "scores.shape"
   ]
  },
  {
   "cell_type": "code",
   "execution_count": 394,
   "metadata": {},
   "outputs": [
    {
     "data": {
      "text/plain": [
       "array([0, 2, 1])"
      ]
     },
     "execution_count": 394,
     "metadata": {},
     "output_type": "execute_result"
    }
   ],
   "source": [
    "scores.argsort()[0][::-1]"
   ]
  },
  {
   "cell_type": "markdown",
   "metadata": {},
   "source": [
    "## Predict"
   ]
  },
  {
   "cell_type": "code",
   "execution_count": 396,
   "metadata": {},
   "outputs": [],
   "source": [
    "class BM25:\n",
    "\n",
    "    def __init__(self, k1=1.5, b=0.75):\n",
    "        self.b = b\n",
    "        self.k1 = k1\n",
    "\n",
    "    def fit(self, corpus):\n",
    "        \"\"\"\n",
    "        Fit the various statistics that are required to calculate BM25 ranking\n",
    "        score using the corpus given.\n",
    "\n",
    "        Parameters\n",
    "        ----------\n",
    "        corpus : list[list[str]]\n",
    "            Each element in the list represents a document, and each document\n",
    "            is a list of the terms.\n",
    "\n",
    "        Returns\n",
    "        -------\n",
    "        self\n",
    "        \"\"\"\n",
    "        tf = []\n",
    "        df = {}\n",
    "        idf = {}\n",
    "        doc_len = []\n",
    "        corpus_size = 0\n",
    "        for document in corpus:\n",
    "            corpus_size += 1\n",
    "            doc_len.append(len(document))\n",
    "\n",
    "            # compute tf (term frequency) per document\n",
    "            frequencies = {}\n",
    "            for term in document:\n",
    "                term_count = frequencies.get(term, 0) + 1\n",
    "                frequencies[term] = term_count\n",
    "\n",
    "            tf.append(frequencies)\n",
    "\n",
    "            # compute df (document frequency) per term\n",
    "            for term, _ in frequencies.items():\n",
    "                df_count = df.get(term, 0) + 1\n",
    "                df[term] = df_count\n",
    "\n",
    "        for term, freq in df.items():\n",
    "            idf[term] = math.log(1 + (corpus_size - freq + 0.5) / (freq + 0.5))\n",
    "\n",
    "        self.tf_ = tf\n",
    "        self.df_ = df\n",
    "        self.idf_ = idf\n",
    "        self.doc_len_ = doc_len\n",
    "        self.corpus_ = corpus\n",
    "        self.corpus_size_ = corpus_size\n",
    "        self.avg_doc_len_ = sum(doc_len) / corpus_size\n",
    "        return self\n",
    "\n",
    "    def search(self, query):\n",
    "        scores = [self._score(query, index) for index in range(self.corpus_size_)]\n",
    "        return scores\n",
    "\n",
    "    def _score(self, query, index):\n",
    "        score = 0.0\n",
    "\n",
    "        doc_len = self.doc_len_[index]\n",
    "        frequencies = self.tf_[index]\n",
    "        for term in query:\n",
    "            if term not in frequencies:\n",
    "                continue\n",
    "\n",
    "            freq = frequencies[term]\n",
    "            numerator = self.idf_[term] * freq * (self.k1 + 1)\n",
    "            denominator = freq + self.k1 * (1 - self.b + self.b * doc_len / self.avg_doc_len_)\n",
    "            score += (numerator / denominator)\n",
    "\n",
    "        return score"
   ]
  },
  {
   "cell_type": "code",
   "execution_count": 439,
   "metadata": {},
   "outputs": [],
   "source": [
    "# Import library\n",
    "import random\n",
    "from sklearn.metrics.pairwise import cosine_similarity\n",
    "from tqdm import tqdm \n",
    "\n",
    "def inference(idx_ls, test, corpus, k:int=5):\n",
    "    # Initialize models\n",
    "    bm25 = BM25()\n",
    "    model = SentenceTransformer('bkai-foundation-models/vietnamese-bi-encoder', cache_folder=\"./cache\")\n",
    "    # df = pd.DataFrame(columns = ['id', 'answer'])\n",
    "    \n",
    "    res = {\"id\": [],\n",
    "           \"answer\": []}\n",
    "    \n",
    "    for i in tqdm(range(len(idx_ls))):\n",
    "        # Get the index of the document in the corpus for the corresponding question\n",
    "        idx = idx_ls[i]\n",
    "        # print(f\"Question: {idx}\")\n",
    "        \n",
    "        question = test[\"question\"][i]\n",
    "        # print(\"question: \", question)\n",
    "        # print(\"options: \", options[i])\n",
    "        \n",
    "        docs = corpus[idx].replace(\"\\n\", \" \").split(\". \")\n",
    "        texts = [[word for word in document.lower().split()] for document in docs]\n",
    "        \n",
    "        # Fit dataset\n",
    "        bm25.fit(texts)\n",
    "\n",
    "        query = question.split()\n",
    "\n",
    "        scores = bm25.search(query)\n",
    "        scores_index = np.argsort(scores)\n",
    "        scores_index = scores_index[::-1]\n",
    "\n",
    "        top_k = np.array([docs[i] for i in scores_index])[:k]\n",
    "        \n",
    "        # Word embedding for top candidates\n",
    "        embeddings = model.encode(top_k)\n",
    "        \n",
    "        # Word embedding for question\n",
    "        query = model.encode(question)\n",
    "        \n",
    "        idx = cosine_similarity([query], embeddings).argmax()\n",
    "        answer = top_k[idx]\n",
    "        \n",
    "        scores = cosine_similarity([model.encode(answer)], model.encode(options[i]))\n",
    "        \n",
    "        max_idx = scores.argmax()\n",
    "        \n",
    "        predictions = np.zeros(scores.shape[1], dtype=int)\n",
    "        \n",
    "        predictions[max_idx] = 1\n",
    "        \n",
    "        res[\"id\"].append(test[\"id\"][i])\n",
    "        res[\"answer\"].append(\"\".join([str(pred) for pred in predictions]))\n",
    "        \n",
    "        # print(f\"Reference: {answer}\")\n",
    "        # print(f\"Answer: {options[i][max_idx]}\")\n",
    "        \n",
    "    df = pd.DataFrame(columns=['id', 'answer'], data=res)\n",
    "    \n",
    "    return df"
   ]
  },
  {
   "cell_type": "code",
   "execution_count": 440,
   "metadata": {},
   "outputs": [
    {
     "name": "stderr",
     "output_type": "stream",
     "text": [
      "100%|██████████| 100/100 [00:49<00:00,  2.02it/s]\n"
     ]
    },
    {
     "data": {
      "text/html": [
       "<div>\n",
       "<style scoped>\n",
       "    .dataframe tbody tr th:only-of-type {\n",
       "        vertical-align: middle;\n",
       "    }\n",
       "\n",
       "    .dataframe tbody tr th {\n",
       "        vertical-align: top;\n",
       "    }\n",
       "\n",
       "    .dataframe thead th {\n",
       "        text-align: right;\n",
       "    }\n",
       "</style>\n",
       "<table border=\"1\" class=\"dataframe\">\n",
       "  <thead>\n",
       "    <tr style=\"text-align: right;\">\n",
       "      <th></th>\n",
       "      <th>id</th>\n",
       "      <th>answer</th>\n",
       "    </tr>\n",
       "  </thead>\n",
       "  <tbody>\n",
       "    <tr>\n",
       "      <th>0</th>\n",
       "      <td>level3_1</td>\n",
       "      <td>0001</td>\n",
       "    </tr>\n",
       "    <tr>\n",
       "      <th>1</th>\n",
       "      <td>level3_2</td>\n",
       "      <td>1000</td>\n",
       "    </tr>\n",
       "    <tr>\n",
       "      <th>2</th>\n",
       "      <td>level3_5</td>\n",
       "      <td>0100</td>\n",
       "    </tr>\n",
       "    <tr>\n",
       "      <th>3</th>\n",
       "      <td>level3_13</td>\n",
       "      <td>10</td>\n",
       "    </tr>\n",
       "    <tr>\n",
       "      <th>4</th>\n",
       "      <td>level3_14</td>\n",
       "      <td>0100</td>\n",
       "    </tr>\n",
       "    <tr>\n",
       "      <th>...</th>\n",
       "      <td>...</td>\n",
       "      <td>...</td>\n",
       "    </tr>\n",
       "    <tr>\n",
       "      <th>95</th>\n",
       "      <td>level4_4</td>\n",
       "      <td>1000</td>\n",
       "    </tr>\n",
       "    <tr>\n",
       "      <th>96</th>\n",
       "      <td>level4_9</td>\n",
       "      <td>1000</td>\n",
       "    </tr>\n",
       "    <tr>\n",
       "      <th>97</th>\n",
       "      <td>level4_27</td>\n",
       "      <td>0001</td>\n",
       "    </tr>\n",
       "    <tr>\n",
       "      <th>98</th>\n",
       "      <td>level4_28</td>\n",
       "      <td>0010</td>\n",
       "    </tr>\n",
       "    <tr>\n",
       "      <th>99</th>\n",
       "      <td>level4_35</td>\n",
       "      <td>010</td>\n",
       "    </tr>\n",
       "  </tbody>\n",
       "</table>\n",
       "<p>100 rows × 2 columns</p>\n",
       "</div>"
      ],
      "text/plain": [
       "           id answer\n",
       "0    level3_1   0001\n",
       "1    level3_2   1000\n",
       "2    level3_5   0100\n",
       "3   level3_13     10\n",
       "4   level3_14   0100\n",
       "..        ...    ...\n",
       "95   level4_4   1000\n",
       "96   level4_9   1000\n",
       "97  level4_27   0001\n",
       "98  level4_28   0010\n",
       "99  level4_35    010\n",
       "\n",
       "[100 rows x 2 columns]"
      ]
     },
     "execution_count": 440,
     "metadata": {},
     "output_type": "execute_result"
    }
   ],
   "source": [
    "df = inference(idx_ls, test, corpus)\n",
    "df"
   ]
  },
  {
   "cell_type": "code",
   "execution_count": 442,
   "metadata": {},
   "outputs": [],
   "source": [
    "df.to_csv(\"submission.csv\", index=False)"
   ]
  },
  {
   "cell_type": "code",
   "execution_count": 443,
   "metadata": {},
   "outputs": [
    {
     "name": "stderr",
     "output_type": "stream",
     "text": [
      "20606.20s - pydevd: Sending message related to process being replaced timed-out after 5 seconds\n"
     ]
    },
    {
     "name": "stdout",
     "output_type": "stream",
     "text": [
      "/space/hotel/phit/kalapa/source\n"
     ]
    }
   ],
   "source": [
    "!pwd"
   ]
  }
 ],
 "metadata": {
  "kernelspec": {
   "display_name": "Python 3",
   "language": "python",
   "name": "python3"
  },
  "language_info": {
   "codemirror_mode": {
    "name": "ipython",
    "version": 3
   },
   "file_extension": ".py",
   "mimetype": "text/x-python",
   "name": "python",
   "nbconvert_exporter": "python",
   "pygments_lexer": "ipython3",
   "version": "3.9.2"
  }
 },
 "nbformat": 4,
 "nbformat_minor": 2
}
